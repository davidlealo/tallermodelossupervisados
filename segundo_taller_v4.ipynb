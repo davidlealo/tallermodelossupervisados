{
 "cells": [
  {
   "cell_type": "markdown",
   "metadata": {},
   "source": [
    "# Parte 1\n",
    "Cargue la base de datos Lluvia_full.csv, codifique la variable LluviaMan como 0 y 1 para los días sin lluvia y con lluvia respectivamente. Además, realice una separación de la base de datos en un set de entrenamiento y set de validación. Utilice una proporción de 70:30 respectivamente estratificado por la LluviaMan. Para poder replicar sus resultados, fije una semilla antes de obtener los indices. Para ello utilice la función set.seed(2023)."
   ]
  },
  {
   "cell_type": "markdown",
   "metadata": {},
   "source": [
    "### Carga de archivo y configuraciones iniciales"
   ]
  },
  {
   "cell_type": "code",
   "execution_count": 2,
   "metadata": {},
   "outputs": [],
   "source": [
    "# Importar librerias\n",
    "import numpy as np\n",
    "import pandas as pd\n",
    "import matplotlib.pyplot as plt\n",
    "import seaborn as sns"
   ]
  },
  {
   "cell_type": "code",
   "execution_count": 4,
   "metadata": {},
   "outputs": [],
   "source": [
    "# Cargar base de datos lluvia_full.csv\n",
    "df = pd.read_csv('data/lluvia_full.csv', sep=',')"
   ]
  },
  {
   "cell_type": "code",
   "execution_count": 5,
   "metadata": {},
   "outputs": [
    {
     "data": {
      "text/html": [
       "<div>\n",
       "<style scoped>\n",
       "    .dataframe tbody tr th:only-of-type {\n",
       "        vertical-align: middle;\n",
       "    }\n",
       "\n",
       "    .dataframe tbody tr th {\n",
       "        vertical-align: top;\n",
       "    }\n",
       "\n",
       "    .dataframe thead th {\n",
       "        text-align: right;\n",
       "    }\n",
       "</style>\n",
       "<table border=\"1\" class=\"dataframe\">\n",
       "  <thead>\n",
       "    <tr style=\"text-align: right;\">\n",
       "      <th></th>\n",
       "      <th>MinTemp</th>\n",
       "      <th>MaxTemp</th>\n",
       "      <th>Lluvia</th>\n",
       "      <th>Evaporacion</th>\n",
       "      <th>Sol</th>\n",
       "      <th>VelRafaga</th>\n",
       "      <th>Vel9am</th>\n",
       "      <th>Vel3pm</th>\n",
       "      <th>Hum9am</th>\n",
       "      <th>Hum3pm</th>\n",
       "      <th>Pres9am</th>\n",
       "      <th>Pre3pm</th>\n",
       "      <th>Nub9am</th>\n",
       "      <th>Nub3pm</th>\n",
       "      <th>Temp9am</th>\n",
       "      <th>Temp3pm</th>\n",
       "      <th>LluviaHoy</th>\n",
       "      <th>LluviaMan</th>\n",
       "      <th>Koppen</th>\n",
       "      <th>Estacion</th>\n",
       "    </tr>\n",
       "  </thead>\n",
       "  <tbody>\n",
       "    <tr>\n",
       "      <th>0</th>\n",
       "      <td>7.6</td>\n",
       "      <td>19.3</td>\n",
       "      <td>0.0</td>\n",
       "      <td>3.4</td>\n",
       "      <td>9.4</td>\n",
       "      <td>35.0</td>\n",
       "      <td>13.0</td>\n",
       "      <td>13.0</td>\n",
       "      <td>73.0</td>\n",
       "      <td>32.0</td>\n",
       "      <td>1018.6</td>\n",
       "      <td>1015.4</td>\n",
       "      <td>1.0</td>\n",
       "      <td>1.0</td>\n",
       "      <td>9.4</td>\n",
       "      <td>18.8</td>\n",
       "      <td>No</td>\n",
       "      <td>No</td>\n",
       "      <td>Subtropical</td>\n",
       "      <td>Invierno</td>\n",
       "    </tr>\n",
       "    <tr>\n",
       "      <th>1</th>\n",
       "      <td>6.8</td>\n",
       "      <td>19.5</td>\n",
       "      <td>0.0</td>\n",
       "      <td>3.4</td>\n",
       "      <td>9.4</td>\n",
       "      <td>46.0</td>\n",
       "      <td>19.0</td>\n",
       "      <td>28.0</td>\n",
       "      <td>67.0</td>\n",
       "      <td>42.0</td>\n",
       "      <td>1018.4</td>\n",
       "      <td>1015.2</td>\n",
       "      <td>1.0</td>\n",
       "      <td>1.0</td>\n",
       "      <td>11.9</td>\n",
       "      <td>17.9</td>\n",
       "      <td>No</td>\n",
       "      <td>No</td>\n",
       "      <td>Subtropical</td>\n",
       "      <td>Invierno</td>\n",
       "    </tr>\n",
       "    <tr>\n",
       "      <th>2</th>\n",
       "      <td>5.5</td>\n",
       "      <td>13.9</td>\n",
       "      <td>0.0</td>\n",
       "      <td>2.8</td>\n",
       "      <td>3.8</td>\n",
       "      <td>44.0</td>\n",
       "      <td>26.0</td>\n",
       "      <td>13.0</td>\n",
       "      <td>72.0</td>\n",
       "      <td>58.0</td>\n",
       "      <td>1017.8</td>\n",
       "      <td>1015.5</td>\n",
       "      <td>7.0</td>\n",
       "      <td>7.0</td>\n",
       "      <td>8.1</td>\n",
       "      <td>12.2</td>\n",
       "      <td>No</td>\n",
       "      <td>No</td>\n",
       "      <td>Temperate</td>\n",
       "      <td>Invierno</td>\n",
       "    </tr>\n",
       "    <tr>\n",
       "      <th>3</th>\n",
       "      <td>8.6</td>\n",
       "      <td>14.3</td>\n",
       "      <td>0.0</td>\n",
       "      <td>2.8</td>\n",
       "      <td>3.8</td>\n",
       "      <td>35.0</td>\n",
       "      <td>13.0</td>\n",
       "      <td>17.0</td>\n",
       "      <td>67.0</td>\n",
       "      <td>56.0</td>\n",
       "      <td>1017.4</td>\n",
       "      <td>1015.0</td>\n",
       "      <td>7.0</td>\n",
       "      <td>7.0</td>\n",
       "      <td>9.3</td>\n",
       "      <td>13.4</td>\n",
       "      <td>No</td>\n",
       "      <td>Yes</td>\n",
       "      <td>Temperate</td>\n",
       "      <td>Invierno</td>\n",
       "    </tr>\n",
       "    <tr>\n",
       "      <th>4</th>\n",
       "      <td>7.9</td>\n",
       "      <td>13.0</td>\n",
       "      <td>0.0</td>\n",
       "      <td>2.8</td>\n",
       "      <td>3.8</td>\n",
       "      <td>39.0</td>\n",
       "      <td>15.0</td>\n",
       "      <td>17.0</td>\n",
       "      <td>68.0</td>\n",
       "      <td>69.0</td>\n",
       "      <td>1017.6</td>\n",
       "      <td>1015.3</td>\n",
       "      <td>7.0</td>\n",
       "      <td>7.0</td>\n",
       "      <td>9.0</td>\n",
       "      <td>11.7</td>\n",
       "      <td>No</td>\n",
       "      <td>No</td>\n",
       "      <td>Temperate</td>\n",
       "      <td>Invierno</td>\n",
       "    </tr>\n",
       "  </tbody>\n",
       "</table>\n",
       "</div>"
      ],
      "text/plain": [
       "   MinTemp  MaxTemp  Lluvia  Evaporacion  Sol  VelRafaga  Vel9am  Vel3pm  \\\n",
       "0      7.6     19.3     0.0          3.4  9.4       35.0    13.0    13.0   \n",
       "1      6.8     19.5     0.0          3.4  9.4       46.0    19.0    28.0   \n",
       "2      5.5     13.9     0.0          2.8  3.8       44.0    26.0    13.0   \n",
       "3      8.6     14.3     0.0          2.8  3.8       35.0    13.0    17.0   \n",
       "4      7.9     13.0     0.0          2.8  3.8       39.0    15.0    17.0   \n",
       "\n",
       "   Hum9am  Hum3pm  Pres9am  Pre3pm  Nub9am  Nub3pm  Temp9am  Temp3pm  \\\n",
       "0    73.0    32.0   1018.6  1015.4     1.0     1.0      9.4     18.8   \n",
       "1    67.0    42.0   1018.4  1015.2     1.0     1.0     11.9     17.9   \n",
       "2    72.0    58.0   1017.8  1015.5     7.0     7.0      8.1     12.2   \n",
       "3    67.0    56.0   1017.4  1015.0     7.0     7.0      9.3     13.4   \n",
       "4    68.0    69.0   1017.6  1015.3     7.0     7.0      9.0     11.7   \n",
       "\n",
       "  LluviaHoy LluviaMan       Koppen  Estacion  \n",
       "0        No        No  Subtropical  Invierno  \n",
       "1        No        No  Subtropical  Invierno  \n",
       "2        No        No    Temperate  Invierno  \n",
       "3        No       Yes    Temperate  Invierno  \n",
       "4        No        No    Temperate  Invierno  "
      ]
     },
     "execution_count": 5,
     "metadata": {},
     "output_type": "execute_result"
    }
   ],
   "source": [
    "df.head()"
   ]
  },
  {
   "cell_type": "code",
   "execution_count": 7,
   "metadata": {},
   "outputs": [
    {
     "name": "stdout",
     "output_type": "stream",
     "text": [
      "MinTemp        0\n",
      "MaxTemp        0\n",
      "Lluvia         0\n",
      "Evaporacion    0\n",
      "Sol            0\n",
      "VelRafaga      0\n",
      "Vel9am         0\n",
      "Vel3pm         0\n",
      "Hum9am         0\n",
      "Hum3pm         0\n",
      "Pres9am        0\n",
      "Pre3pm         0\n",
      "Nub9am         0\n",
      "Nub3pm         0\n",
      "Temp9am        0\n",
      "Temp3pm        0\n",
      "LluviaHoy      0\n",
      "LluviaMan      0\n",
      "Koppen         0\n",
      "Estacion       0\n",
      "dtype: int64\n"
     ]
    }
   ],
   "source": [
    "#Verificar si hay datos faltantes\n",
    "print(df.isnull().sum())"
   ]
  },
  {
   "cell_type": "code",
   "execution_count": 8,
   "metadata": {},
   "outputs": [
    {
     "name": "stdout",
     "output_type": "stream",
     "text": [
      "<class 'pandas.core.frame.DataFrame'>\n",
      "RangeIndex: 56420 entries, 0 to 56419\n",
      "Data columns (total 20 columns):\n",
      " #   Column       Non-Null Count  Dtype  \n",
      "---  ------       --------------  -----  \n",
      " 0   MinTemp      56420 non-null  float64\n",
      " 1   MaxTemp      56420 non-null  float64\n",
      " 2   Lluvia       56420 non-null  float64\n",
      " 3   Evaporacion  56420 non-null  float64\n",
      " 4   Sol          56420 non-null  float64\n",
      " 5   VelRafaga    56420 non-null  float64\n",
      " 6   Vel9am       56420 non-null  float64\n",
      " 7   Vel3pm       56420 non-null  float64\n",
      " 8   Hum9am       56420 non-null  float64\n",
      " 9   Hum3pm       56420 non-null  float64\n",
      " 10  Pres9am      56420 non-null  float64\n",
      " 11  Pre3pm       56420 non-null  float64\n",
      " 12  Nub9am       56420 non-null  float64\n",
      " 13  Nub3pm       56420 non-null  float64\n",
      " 14  Temp9am      56420 non-null  float64\n",
      " 15  Temp3pm      56420 non-null  float64\n",
      " 16  LluviaHoy    56420 non-null  object \n",
      " 17  LluviaMan    56420 non-null  object \n",
      " 18  Koppen       56420 non-null  object \n",
      " 19  Estacion     56420 non-null  object \n",
      "dtypes: float64(16), object(4)\n",
      "memory usage: 8.6+ MB\n"
     ]
    }
   ],
   "source": [
    "# Información de dataframe\n",
    "df.info()"
   ]
  },
  {
   "cell_type": "markdown",
   "metadata": {},
   "source": [
    "### Transformación de valores en variable LluviaMan"
   ]
  },
  {
   "cell_type": "code",
   "execution_count": 9,
   "metadata": {},
   "outputs": [
    {
     "data": {
      "text/plain": [
       "LluviaMan\n",
       "0    43993\n",
       "1    12427\n",
       "Name: count, dtype: int64"
      ]
     },
     "execution_count": 9,
     "metadata": {},
     "output_type": "execute_result"
    }
   ],
   "source": [
    "# Codifique la variable LluviaMan como 0 y 1 para los días sin lluvia y con lluvia respectivamente\n",
    "df[\"LluviaMan\"].replace([\"No\",\"Yes\"], [0, 1], inplace = True)\n",
    "df['LluviaMan'].value_counts()"
   ]
  },
  {
   "cell_type": "code",
   "execution_count": 10,
   "metadata": {},
   "outputs": [
    {
     "name": "stdout",
     "output_type": "stream",
     "text": [
      "<class 'pandas.core.frame.DataFrame'>\n",
      "RangeIndex: 56420 entries, 0 to 56419\n",
      "Data columns (total 20 columns):\n",
      " #   Column       Non-Null Count  Dtype  \n",
      "---  ------       --------------  -----  \n",
      " 0   MinTemp      56420 non-null  float64\n",
      " 1   MaxTemp      56420 non-null  float64\n",
      " 2   Lluvia       56420 non-null  float64\n",
      " 3   Evaporacion  56420 non-null  float64\n",
      " 4   Sol          56420 non-null  float64\n",
      " 5   VelRafaga    56420 non-null  float64\n",
      " 6   Vel9am       56420 non-null  float64\n",
      " 7   Vel3pm       56420 non-null  float64\n",
      " 8   Hum9am       56420 non-null  float64\n",
      " 9   Hum3pm       56420 non-null  float64\n",
      " 10  Pres9am      56420 non-null  float64\n",
      " 11  Pre3pm       56420 non-null  float64\n",
      " 12  Nub9am       56420 non-null  float64\n",
      " 13  Nub3pm       56420 non-null  float64\n",
      " 14  Temp9am      56420 non-null  float64\n",
      " 15  Temp3pm      56420 non-null  float64\n",
      " 16  LluviaHoy    56420 non-null  object \n",
      " 17  LluviaMan    56420 non-null  int64  \n",
      " 18  Koppen       56420 non-null  object \n",
      " 19  Estacion     56420 non-null  object \n",
      "dtypes: float64(16), int64(1), object(3)\n",
      "memory usage: 8.6+ MB\n"
     ]
    }
   ],
   "source": [
    "# Información de dataframe\n",
    "df.info()"
   ]
  },
  {
   "cell_type": "markdown",
   "metadata": {},
   "source": [
    "### Sepación de base de datos"
   ]
  },
  {
   "cell_type": "code",
   "execution_count": 11,
   "metadata": {},
   "outputs": [],
   "source": [
    "# Separar datos estratificads por la variable LluviaMan\n",
    "\n",
    "from sklearn.model_selection import train_test_split\n",
    "\n",
    "df_y = df[\"LluviaMan\"]\n",
    "df_X = df.copy()\n",
    "df_X.drop([\"LluviaMan\"], axis = \"columns\", inplace =  True)"
   ]
  },
  {
   "cell_type": "code",
   "execution_count": 12,
   "metadata": {},
   "outputs": [
    {
     "data": {
      "text/plain": [
       "0    0\n",
       "1    0\n",
       "2    0\n",
       "3    1\n",
       "4    0\n",
       "Name: LluviaMan, dtype: int64"
      ]
     },
     "execution_count": 12,
     "metadata": {},
     "output_type": "execute_result"
    }
   ],
   "source": [
    "# Dataframe df_y\n",
    "df_y.head()"
   ]
  },
  {
   "cell_type": "code",
   "execution_count": 13,
   "metadata": {},
   "outputs": [
    {
     "data": {
      "text/html": [
       "<div>\n",
       "<style scoped>\n",
       "    .dataframe tbody tr th:only-of-type {\n",
       "        vertical-align: middle;\n",
       "    }\n",
       "\n",
       "    .dataframe tbody tr th {\n",
       "        vertical-align: top;\n",
       "    }\n",
       "\n",
       "    .dataframe thead th {\n",
       "        text-align: right;\n",
       "    }\n",
       "</style>\n",
       "<table border=\"1\" class=\"dataframe\">\n",
       "  <thead>\n",
       "    <tr style=\"text-align: right;\">\n",
       "      <th></th>\n",
       "      <th>MinTemp</th>\n",
       "      <th>MaxTemp</th>\n",
       "      <th>Lluvia</th>\n",
       "      <th>Evaporacion</th>\n",
       "      <th>Sol</th>\n",
       "      <th>VelRafaga</th>\n",
       "      <th>Vel9am</th>\n",
       "      <th>Vel3pm</th>\n",
       "      <th>Hum9am</th>\n",
       "      <th>Hum3pm</th>\n",
       "      <th>Pres9am</th>\n",
       "      <th>Pre3pm</th>\n",
       "      <th>Nub9am</th>\n",
       "      <th>Nub3pm</th>\n",
       "      <th>Temp9am</th>\n",
       "      <th>Temp3pm</th>\n",
       "      <th>LluviaHoy</th>\n",
       "      <th>Koppen</th>\n",
       "      <th>Estacion</th>\n",
       "    </tr>\n",
       "  </thead>\n",
       "  <tbody>\n",
       "    <tr>\n",
       "      <th>0</th>\n",
       "      <td>7.6</td>\n",
       "      <td>19.3</td>\n",
       "      <td>0.0</td>\n",
       "      <td>3.4</td>\n",
       "      <td>9.4</td>\n",
       "      <td>35.0</td>\n",
       "      <td>13.0</td>\n",
       "      <td>13.0</td>\n",
       "      <td>73.0</td>\n",
       "      <td>32.0</td>\n",
       "      <td>1018.6</td>\n",
       "      <td>1015.4</td>\n",
       "      <td>1.0</td>\n",
       "      <td>1.0</td>\n",
       "      <td>9.4</td>\n",
       "      <td>18.8</td>\n",
       "      <td>No</td>\n",
       "      <td>Subtropical</td>\n",
       "      <td>Invierno</td>\n",
       "    </tr>\n",
       "    <tr>\n",
       "      <th>1</th>\n",
       "      <td>6.8</td>\n",
       "      <td>19.5</td>\n",
       "      <td>0.0</td>\n",
       "      <td>3.4</td>\n",
       "      <td>9.4</td>\n",
       "      <td>46.0</td>\n",
       "      <td>19.0</td>\n",
       "      <td>28.0</td>\n",
       "      <td>67.0</td>\n",
       "      <td>42.0</td>\n",
       "      <td>1018.4</td>\n",
       "      <td>1015.2</td>\n",
       "      <td>1.0</td>\n",
       "      <td>1.0</td>\n",
       "      <td>11.9</td>\n",
       "      <td>17.9</td>\n",
       "      <td>No</td>\n",
       "      <td>Subtropical</td>\n",
       "      <td>Invierno</td>\n",
       "    </tr>\n",
       "    <tr>\n",
       "      <th>2</th>\n",
       "      <td>5.5</td>\n",
       "      <td>13.9</td>\n",
       "      <td>0.0</td>\n",
       "      <td>2.8</td>\n",
       "      <td>3.8</td>\n",
       "      <td>44.0</td>\n",
       "      <td>26.0</td>\n",
       "      <td>13.0</td>\n",
       "      <td>72.0</td>\n",
       "      <td>58.0</td>\n",
       "      <td>1017.8</td>\n",
       "      <td>1015.5</td>\n",
       "      <td>7.0</td>\n",
       "      <td>7.0</td>\n",
       "      <td>8.1</td>\n",
       "      <td>12.2</td>\n",
       "      <td>No</td>\n",
       "      <td>Temperate</td>\n",
       "      <td>Invierno</td>\n",
       "    </tr>\n",
       "    <tr>\n",
       "      <th>3</th>\n",
       "      <td>8.6</td>\n",
       "      <td>14.3</td>\n",
       "      <td>0.0</td>\n",
       "      <td>2.8</td>\n",
       "      <td>3.8</td>\n",
       "      <td>35.0</td>\n",
       "      <td>13.0</td>\n",
       "      <td>17.0</td>\n",
       "      <td>67.0</td>\n",
       "      <td>56.0</td>\n",
       "      <td>1017.4</td>\n",
       "      <td>1015.0</td>\n",
       "      <td>7.0</td>\n",
       "      <td>7.0</td>\n",
       "      <td>9.3</td>\n",
       "      <td>13.4</td>\n",
       "      <td>No</td>\n",
       "      <td>Temperate</td>\n",
       "      <td>Invierno</td>\n",
       "    </tr>\n",
       "    <tr>\n",
       "      <th>4</th>\n",
       "      <td>7.9</td>\n",
       "      <td>13.0</td>\n",
       "      <td>0.0</td>\n",
       "      <td>2.8</td>\n",
       "      <td>3.8</td>\n",
       "      <td>39.0</td>\n",
       "      <td>15.0</td>\n",
       "      <td>17.0</td>\n",
       "      <td>68.0</td>\n",
       "      <td>69.0</td>\n",
       "      <td>1017.6</td>\n",
       "      <td>1015.3</td>\n",
       "      <td>7.0</td>\n",
       "      <td>7.0</td>\n",
       "      <td>9.0</td>\n",
       "      <td>11.7</td>\n",
       "      <td>No</td>\n",
       "      <td>Temperate</td>\n",
       "      <td>Invierno</td>\n",
       "    </tr>\n",
       "  </tbody>\n",
       "</table>\n",
       "</div>"
      ],
      "text/plain": [
       "   MinTemp  MaxTemp  Lluvia  Evaporacion  Sol  VelRafaga  Vel9am  Vel3pm  \\\n",
       "0      7.6     19.3     0.0          3.4  9.4       35.0    13.0    13.0   \n",
       "1      6.8     19.5     0.0          3.4  9.4       46.0    19.0    28.0   \n",
       "2      5.5     13.9     0.0          2.8  3.8       44.0    26.0    13.0   \n",
       "3      8.6     14.3     0.0          2.8  3.8       35.0    13.0    17.0   \n",
       "4      7.9     13.0     0.0          2.8  3.8       39.0    15.0    17.0   \n",
       "\n",
       "   Hum9am  Hum3pm  Pres9am  Pre3pm  Nub9am  Nub3pm  Temp9am  Temp3pm  \\\n",
       "0    73.0    32.0   1018.6  1015.4     1.0     1.0      9.4     18.8   \n",
       "1    67.0    42.0   1018.4  1015.2     1.0     1.0     11.9     17.9   \n",
       "2    72.0    58.0   1017.8  1015.5     7.0     7.0      8.1     12.2   \n",
       "3    67.0    56.0   1017.4  1015.0     7.0     7.0      9.3     13.4   \n",
       "4    68.0    69.0   1017.6  1015.3     7.0     7.0      9.0     11.7   \n",
       "\n",
       "  LluviaHoy       Koppen  Estacion  \n",
       "0        No  Subtropical  Invierno  \n",
       "1        No  Subtropical  Invierno  \n",
       "2        No    Temperate  Invierno  \n",
       "3        No    Temperate  Invierno  \n",
       "4        No    Temperate  Invierno  "
      ]
     },
     "execution_count": 13,
     "metadata": {},
     "output_type": "execute_result"
    }
   ],
   "source": [
    "# Dataframe df_X\n",
    "df_X.head()"
   ]
  },
  {
   "cell_type": "code",
   "execution_count": 14,
   "metadata": {},
   "outputs": [],
   "source": [
    "# Separo en 70% entrenamiento y 30% testeo con una semilla 2023\n",
    "\n",
    "X_train, X_test, y_train, y_test = train_test_split(df_X, df_y, train_size = 0.7, random_state = 2023, stratify = df_y)"
   ]
  },
  {
   "cell_type": "markdown",
   "metadata": {},
   "source": [
    "# Parte 2\n",
    "Utilizando el set de entrenamiento, ajuste un modelo de regresión logística, SVM, árbol de clasificación y Random Forest. Para ello debe:\n",
    "\n",
    "\n",
    "#### 1. Limpiar los datos - Escalar los datos numéricos. - Transformar a dummys las variables categóricas."
   ]
  },
  {
   "cell_type": "code",
   "execution_count": 26,
   "metadata": {},
   "outputs": [
    {
     "name": "stdout",
     "output_type": "stream",
     "text": [
      "Variables categóricas:  Index(['LluviaHoy', 'Koppen', 'Estacion'], dtype='object')\n",
      "Variables numéricas:  Index(['MinTemp', 'MaxTemp', 'Lluvia', 'Evaporacion', 'Sol', 'VelRafaga',\n",
      "       'Vel9am', 'Vel3pm', 'Hum9am', 'Hum3pm', 'Pres9am', 'Pre3pm', 'Nub9am',\n",
      "       'Nub3pm', 'Temp9am', 'Temp3pm'],\n",
      "      dtype='object')\n"
     ]
    }
   ],
   "source": [
    "# Identificar variables numércicas y categóricas en base de entrenamiento\n",
    "categoricas_train = X_train.columns[X_train.dtypes=='object']\n",
    "numericas_train = X_train.columns[X_train.dtypes!='object']\n",
    "print(\"Variables categóricas: \",categoricas)\n",
    "print(\"Variables numéricas: \",numericas)"
   ]
  },
  {
   "cell_type": "code",
   "execution_count": 27,
   "metadata": {},
   "outputs": [
    {
     "name": "stdout",
     "output_type": "stream",
     "text": [
      "Variables categóricas:  Index(['LluviaHoy', 'Koppen', 'Estacion'], dtype='object')\n",
      "Variables numéricas:  Index(['MinTemp', 'MaxTemp', 'Lluvia', 'Evaporacion', 'Sol', 'VelRafaga',\n",
      "       'Vel9am', 'Vel3pm', 'Hum9am', 'Hum3pm', 'Pres9am', 'Pre3pm', 'Nub9am',\n",
      "       'Nub3pm', 'Temp9am', 'Temp3pm'],\n",
      "      dtype='object')\n"
     ]
    }
   ],
   "source": [
    "# Identificar variables numércicas y categóricas en base de testeo\n",
    "categoricas_test = X_test.columns[X_test.dtypes=='object']\n",
    "numericas_test = X_test.columns[X_test.dtypes!='object']\n",
    "print(\"Variables categóricas: \",categoricas)\n",
    "print(\"Variables numéricas: \",numericas)"
   ]
  },
  {
   "cell_type": "code",
   "execution_count": 31,
   "metadata": {},
   "outputs": [
    {
     "data": {
      "text/html": [
       "<style>#sk-container-id-3 {color: black;}#sk-container-id-3 pre{padding: 0;}#sk-container-id-3 div.sk-toggleable {background-color: white;}#sk-container-id-3 label.sk-toggleable__label {cursor: pointer;display: block;width: 100%;margin-bottom: 0;padding: 0.3em;box-sizing: border-box;text-align: center;}#sk-container-id-3 label.sk-toggleable__label-arrow:before {content: \"▸\";float: left;margin-right: 0.25em;color: #696969;}#sk-container-id-3 label.sk-toggleable__label-arrow:hover:before {color: black;}#sk-container-id-3 div.sk-estimator:hover label.sk-toggleable__label-arrow:before {color: black;}#sk-container-id-3 div.sk-toggleable__content {max-height: 0;max-width: 0;overflow: hidden;text-align: left;background-color: #f0f8ff;}#sk-container-id-3 div.sk-toggleable__content pre {margin: 0.2em;color: black;border-radius: 0.25em;background-color: #f0f8ff;}#sk-container-id-3 input.sk-toggleable__control:checked~div.sk-toggleable__content {max-height: 200px;max-width: 100%;overflow: auto;}#sk-container-id-3 input.sk-toggleable__control:checked~label.sk-toggleable__label-arrow:before {content: \"▾\";}#sk-container-id-3 div.sk-estimator input.sk-toggleable__control:checked~label.sk-toggleable__label {background-color: #d4ebff;}#sk-container-id-3 div.sk-label input.sk-toggleable__control:checked~label.sk-toggleable__label {background-color: #d4ebff;}#sk-container-id-3 input.sk-hidden--visually {border: 0;clip: rect(1px 1px 1px 1px);clip: rect(1px, 1px, 1px, 1px);height: 1px;margin: -1px;overflow: hidden;padding: 0;position: absolute;width: 1px;}#sk-container-id-3 div.sk-estimator {font-family: monospace;background-color: #f0f8ff;border: 1px dotted black;border-radius: 0.25em;box-sizing: border-box;margin-bottom: 0.5em;}#sk-container-id-3 div.sk-estimator:hover {background-color: #d4ebff;}#sk-container-id-3 div.sk-parallel-item::after {content: \"\";width: 100%;border-bottom: 1px solid gray;flex-grow: 1;}#sk-container-id-3 div.sk-label:hover label.sk-toggleable__label {background-color: #d4ebff;}#sk-container-id-3 div.sk-serial::before {content: \"\";position: absolute;border-left: 1px solid gray;box-sizing: border-box;top: 0;bottom: 0;left: 50%;z-index: 0;}#sk-container-id-3 div.sk-serial {display: flex;flex-direction: column;align-items: center;background-color: white;padding-right: 0.2em;padding-left: 0.2em;position: relative;}#sk-container-id-3 div.sk-item {position: relative;z-index: 1;}#sk-container-id-3 div.sk-parallel {display: flex;align-items: stretch;justify-content: center;background-color: white;position: relative;}#sk-container-id-3 div.sk-item::before, #sk-container-id-3 div.sk-parallel-item::before {content: \"\";position: absolute;border-left: 1px solid gray;box-sizing: border-box;top: 0;bottom: 0;left: 50%;z-index: -1;}#sk-container-id-3 div.sk-parallel-item {display: flex;flex-direction: column;z-index: 1;position: relative;background-color: white;}#sk-container-id-3 div.sk-parallel-item:first-child::after {align-self: flex-end;width: 50%;}#sk-container-id-3 div.sk-parallel-item:last-child::after {align-self: flex-start;width: 50%;}#sk-container-id-3 div.sk-parallel-item:only-child::after {width: 0;}#sk-container-id-3 div.sk-dashed-wrapped {border: 1px dashed gray;margin: 0 0.4em 0.5em 0.4em;box-sizing: border-box;padding-bottom: 0.4em;background-color: white;}#sk-container-id-3 div.sk-label label {font-family: monospace;font-weight: bold;display: inline-block;line-height: 1.2em;}#sk-container-id-3 div.sk-label-container {text-align: center;}#sk-container-id-3 div.sk-container {/* jupyter's `normalize.less` sets `[hidden] { display: none; }` but bootstrap.min.css set `[hidden] { display: none !important; }` so we also need the `!important` here to be able to override the default hidden behavior on the sphinx rendered scikit-learn.org. See: https://github.com/scikit-learn/scikit-learn/issues/21755 */display: inline-block !important;position: relative;}#sk-container-id-3 div.sk-text-repr-fallback {display: none;}</style><div id=\"sk-container-id-3\" class=\"sk-top-container\"><div class=\"sk-text-repr-fallback\"><pre>ColumnTransformer(remainder=&#x27;passthrough&#x27;,\n",
       "                  transformers=[(&#x27;onehotencoder&#x27;, OneHotEncoder(),\n",
       "                                 Index([&#x27;LluviaHoy&#x27;, &#x27;Koppen&#x27;, &#x27;Estacion&#x27;], dtype=&#x27;object&#x27;)),\n",
       "                                (&#x27;standardscaler&#x27;, StandardScaler(),\n",
       "                                 Index([&#x27;MinTemp&#x27;, &#x27;MaxTemp&#x27;, &#x27;Lluvia&#x27;, &#x27;Evaporacion&#x27;, &#x27;Sol&#x27;, &#x27;VelRafaga&#x27;,\n",
       "       &#x27;Vel9am&#x27;, &#x27;Vel3pm&#x27;, &#x27;Hum9am&#x27;, &#x27;Hum3pm&#x27;, &#x27;Pres9am&#x27;, &#x27;Pre3pm&#x27;, &#x27;Nub9am&#x27;,\n",
       "       &#x27;Nub3pm&#x27;, &#x27;Temp9am&#x27;, &#x27;Temp3pm&#x27;],\n",
       "      dtype=&#x27;object&#x27;))],\n",
       "                  verbose_feature_names_out=False)</pre><b>In a Jupyter environment, please rerun this cell to show the HTML representation or trust the notebook. <br />On GitHub, the HTML representation is unable to render, please try loading this page with nbviewer.org.</b></div><div class=\"sk-container\" hidden><div class=\"sk-item sk-dashed-wrapped\"><div class=\"sk-label-container\"><div class=\"sk-label sk-toggleable\"><input class=\"sk-toggleable__control sk-hidden--visually\" id=\"sk-estimator-id-15\" type=\"checkbox\" ><label for=\"sk-estimator-id-15\" class=\"sk-toggleable__label sk-toggleable__label-arrow\">ColumnTransformer</label><div class=\"sk-toggleable__content\"><pre>ColumnTransformer(remainder=&#x27;passthrough&#x27;,\n",
       "                  transformers=[(&#x27;onehotencoder&#x27;, OneHotEncoder(),\n",
       "                                 Index([&#x27;LluviaHoy&#x27;, &#x27;Koppen&#x27;, &#x27;Estacion&#x27;], dtype=&#x27;object&#x27;)),\n",
       "                                (&#x27;standardscaler&#x27;, StandardScaler(),\n",
       "                                 Index([&#x27;MinTemp&#x27;, &#x27;MaxTemp&#x27;, &#x27;Lluvia&#x27;, &#x27;Evaporacion&#x27;, &#x27;Sol&#x27;, &#x27;VelRafaga&#x27;,\n",
       "       &#x27;Vel9am&#x27;, &#x27;Vel3pm&#x27;, &#x27;Hum9am&#x27;, &#x27;Hum3pm&#x27;, &#x27;Pres9am&#x27;, &#x27;Pre3pm&#x27;, &#x27;Nub9am&#x27;,\n",
       "       &#x27;Nub3pm&#x27;, &#x27;Temp9am&#x27;, &#x27;Temp3pm&#x27;],\n",
       "      dtype=&#x27;object&#x27;))],\n",
       "                  verbose_feature_names_out=False)</pre></div></div></div><div class=\"sk-parallel\"><div class=\"sk-parallel-item\"><div class=\"sk-item\"><div class=\"sk-label-container\"><div class=\"sk-label sk-toggleable\"><input class=\"sk-toggleable__control sk-hidden--visually\" id=\"sk-estimator-id-16\" type=\"checkbox\" ><label for=\"sk-estimator-id-16\" class=\"sk-toggleable__label sk-toggleable__label-arrow\">onehotencoder</label><div class=\"sk-toggleable__content\"><pre>Index([&#x27;LluviaHoy&#x27;, &#x27;Koppen&#x27;, &#x27;Estacion&#x27;], dtype=&#x27;object&#x27;)</pre></div></div></div><div class=\"sk-serial\"><div class=\"sk-item\"><div class=\"sk-estimator sk-toggleable\"><input class=\"sk-toggleable__control sk-hidden--visually\" id=\"sk-estimator-id-17\" type=\"checkbox\" ><label for=\"sk-estimator-id-17\" class=\"sk-toggleable__label sk-toggleable__label-arrow\">OneHotEncoder</label><div class=\"sk-toggleable__content\"><pre>OneHotEncoder()</pre></div></div></div></div></div></div><div class=\"sk-parallel-item\"><div class=\"sk-item\"><div class=\"sk-label-container\"><div class=\"sk-label sk-toggleable\"><input class=\"sk-toggleable__control sk-hidden--visually\" id=\"sk-estimator-id-18\" type=\"checkbox\" ><label for=\"sk-estimator-id-18\" class=\"sk-toggleable__label sk-toggleable__label-arrow\">standardscaler</label><div class=\"sk-toggleable__content\"><pre>Index([&#x27;MinTemp&#x27;, &#x27;MaxTemp&#x27;, &#x27;Lluvia&#x27;, &#x27;Evaporacion&#x27;, &#x27;Sol&#x27;, &#x27;VelRafaga&#x27;,\n",
       "       &#x27;Vel9am&#x27;, &#x27;Vel3pm&#x27;, &#x27;Hum9am&#x27;, &#x27;Hum3pm&#x27;, &#x27;Pres9am&#x27;, &#x27;Pre3pm&#x27;, &#x27;Nub9am&#x27;,\n",
       "       &#x27;Nub3pm&#x27;, &#x27;Temp9am&#x27;, &#x27;Temp3pm&#x27;],\n",
       "      dtype=&#x27;object&#x27;)</pre></div></div></div><div class=\"sk-serial\"><div class=\"sk-item\"><div class=\"sk-estimator sk-toggleable\"><input class=\"sk-toggleable__control sk-hidden--visually\" id=\"sk-estimator-id-19\" type=\"checkbox\" ><label for=\"sk-estimator-id-19\" class=\"sk-toggleable__label sk-toggleable__label-arrow\">StandardScaler</label><div class=\"sk-toggleable__content\"><pre>StandardScaler()</pre></div></div></div></div></div></div><div class=\"sk-parallel-item\"><div class=\"sk-item\"><div class=\"sk-label-container\"><div class=\"sk-label sk-toggleable\"><input class=\"sk-toggleable__control sk-hidden--visually\" id=\"sk-estimator-id-20\" type=\"checkbox\" ><label for=\"sk-estimator-id-20\" class=\"sk-toggleable__label sk-toggleable__label-arrow\">remainder</label><div class=\"sk-toggleable__content\"><pre>[]</pre></div></div></div><div class=\"sk-serial\"><div class=\"sk-item\"><div class=\"sk-estimator sk-toggleable\"><input class=\"sk-toggleable__control sk-hidden--visually\" id=\"sk-estimator-id-21\" type=\"checkbox\" ><label for=\"sk-estimator-id-21\" class=\"sk-toggleable__label sk-toggleable__label-arrow\">passthrough</label><div class=\"sk-toggleable__content\"><pre>passthrough</pre></div></div></div></div></div></div></div></div></div></div>"
      ],
      "text/plain": [
       "ColumnTransformer(remainder='passthrough',\n",
       "                  transformers=[('onehotencoder', OneHotEncoder(),\n",
       "                                 Index(['LluviaHoy', 'Koppen', 'Estacion'], dtype='object')),\n",
       "                                ('standardscaler', StandardScaler(),\n",
       "                                 Index(['MinTemp', 'MaxTemp', 'Lluvia', 'Evaporacion', 'Sol', 'VelRafaga',\n",
       "       'Vel9am', 'Vel3pm', 'Hum9am', 'Hum3pm', 'Pres9am', 'Pre3pm', 'Nub9am',\n",
       "       'Nub3pm', 'Temp9am', 'Temp3pm'],\n",
       "      dtype='object'))],\n",
       "                  verbose_feature_names_out=False)"
      ]
     },
     "execution_count": 31,
     "metadata": {},
     "output_type": "execute_result"
    }
   ],
   "source": [
    "from sklearn.compose import make_column_transformer\n",
    "from sklearn.preprocessing import OneHotEncoder, StandardScaler\n",
    "\n",
    "# Instanciamos OneHotEncoder y StandardScaler\n",
    "ohe = OneHotEncoder()\n",
    "scaler = StandardScaler()\n",
    "\n",
    "#Creamos transformación de Train\n",
    "transformer_train = make_column_transformer(\n",
    "    (ohe, categoricas_train),\n",
    "    (scaler, numericas_train),\n",
    "    remainder = 'passthrough',\n",
    "    verbose_feature_names_out = False\n",
    ")\n",
    "# Ajustamos y transformamos\n",
    "transformer_train.fit(X_train)\n",
    "\n",
    "#Creamos transformación de Test\n",
    "transformer_test = make_column_transformer(\n",
    "    (ohe, categoricas_test),\n",
    "    (scaler, numericas_test),\n",
    "    remainder = 'passthrough',\n",
    "    verbose_feature_names_out = False\n",
    ")\n",
    "# Ajustamos y transformamos\n",
    "transformer_test.fit(X_test)"
   ]
  },
  {
   "cell_type": "code",
   "execution_count": 32,
   "metadata": {},
   "outputs": [
    {
     "data": {
      "text/plain": [
       "array(['LluviaHoy_No', 'LluviaHoy_Yes', 'Koppen_Desert',\n",
       "       'Koppen_Grassland', 'Koppen_Subtropical', 'Koppen_Temperate',\n",
       "       'Estacion_Invierno', 'Estacion_Otoño', 'Estacion_Primavera',\n",
       "       'Estacion_Verano', 'MinTemp', 'MaxTemp', 'Lluvia', 'Evaporacion',\n",
       "       'Sol', 'VelRafaga', 'Vel9am', 'Vel3pm', 'Hum9am', 'Hum3pm',\n",
       "       'Pres9am', 'Pre3pm', 'Nub9am', 'Nub3pm', 'Temp9am', 'Temp3pm'],\n",
       "      dtype=object)"
      ]
     },
     "execution_count": 32,
     "metadata": {},
     "output_type": "execute_result"
    }
   ],
   "source": [
    "# Obtener los nombres de las variables de entrenamiento\n",
    "transformer_train.get_feature_names_out()\n",
    "\n",
    "# Obtener los nombres de las variables de testeo\n",
    "transformer_test.get_feature_names_out()"
   ]
  },
  {
   "cell_type": "code",
   "execution_count": 33,
   "metadata": {},
   "outputs": [
    {
     "data": {
      "text/html": [
       "<div>\n",
       "<style scoped>\n",
       "    .dataframe tbody tr th:only-of-type {\n",
       "        vertical-align: middle;\n",
       "    }\n",
       "\n",
       "    .dataframe tbody tr th {\n",
       "        vertical-align: top;\n",
       "    }\n",
       "\n",
       "    .dataframe thead th {\n",
       "        text-align: right;\n",
       "    }\n",
       "</style>\n",
       "<table border=\"1\" class=\"dataframe\">\n",
       "  <thead>\n",
       "    <tr style=\"text-align: right;\">\n",
       "      <th></th>\n",
       "      <th>LluviaHoy_No</th>\n",
       "      <th>LluviaHoy_Yes</th>\n",
       "      <th>Koppen_Desert</th>\n",
       "      <th>Koppen_Grassland</th>\n",
       "      <th>Koppen_Subtropical</th>\n",
       "      <th>Koppen_Temperate</th>\n",
       "      <th>Estacion_Invierno</th>\n",
       "      <th>Estacion_Otoño</th>\n",
       "      <th>Estacion_Primavera</th>\n",
       "      <th>Estacion_Verano</th>\n",
       "      <th>...</th>\n",
       "      <th>Vel9am</th>\n",
       "      <th>Vel3pm</th>\n",
       "      <th>Hum9am</th>\n",
       "      <th>Hum3pm</th>\n",
       "      <th>Pres9am</th>\n",
       "      <th>Pre3pm</th>\n",
       "      <th>Nub9am</th>\n",
       "      <th>Nub3pm</th>\n",
       "      <th>Temp9am</th>\n",
       "      <th>Temp3pm</th>\n",
       "    </tr>\n",
       "  </thead>\n",
       "  <tbody>\n",
       "    <tr>\n",
       "      <th>0</th>\n",
       "      <td>0.532116</td>\n",
       "      <td>-0.532116</td>\n",
       "      <td>-0.178386</td>\n",
       "      <td>-0.307510</td>\n",
       "      <td>1.331273</td>\n",
       "      <td>-1.045125</td>\n",
       "      <td>-0.575109</td>\n",
       "      <td>-0.586375</td>\n",
       "      <td>1.716347</td>\n",
       "      <td>-0.565284</td>\n",
       "      <td>...</td>\n",
       "      <td>-0.801647</td>\n",
       "      <td>1.787281</td>\n",
       "      <td>-0.154067</td>\n",
       "      <td>0.021209</td>\n",
       "      <td>0.183075</td>\n",
       "      <td>-0.041824</td>\n",
       "      <td>-1.156446</td>\n",
       "      <td>-0.117843</td>\n",
       "      <td>0.713276</td>\n",
       "      <td>0.495574</td>\n",
       "    </tr>\n",
       "    <tr>\n",
       "      <th>1</th>\n",
       "      <td>0.532116</td>\n",
       "      <td>-0.532116</td>\n",
       "      <td>-0.178386</td>\n",
       "      <td>-0.307510</td>\n",
       "      <td>-0.751161</td>\n",
       "      <td>0.956823</td>\n",
       "      <td>-0.575109</td>\n",
       "      <td>-0.586375</td>\n",
       "      <td>1.716347</td>\n",
       "      <td>-0.565284</td>\n",
       "      <td>...</td>\n",
       "      <td>-1.043211</td>\n",
       "      <td>1.317494</td>\n",
       "      <td>-2.154512</td>\n",
       "      <td>1.308101</td>\n",
       "      <td>-0.134811</td>\n",
       "      <td>0.016322</td>\n",
       "      <td>-0.083906</td>\n",
       "      <td>0.637754</td>\n",
       "      <td>0.242551</td>\n",
       "      <td>-1.185454</td>\n",
       "    </tr>\n",
       "    <tr>\n",
       "      <th>2</th>\n",
       "      <td>0.532116</td>\n",
       "      <td>-0.532116</td>\n",
       "      <td>-0.178386</td>\n",
       "      <td>-0.307510</td>\n",
       "      <td>1.331273</td>\n",
       "      <td>-1.045125</td>\n",
       "      <td>-0.575109</td>\n",
       "      <td>-0.586375</td>\n",
       "      <td>1.716347</td>\n",
       "      <td>-0.565284</td>\n",
       "      <td>...</td>\n",
       "      <td>1.251648</td>\n",
       "      <td>-1.031440</td>\n",
       "      <td>0.494726</td>\n",
       "      <td>1.159613</td>\n",
       "      <td>-0.149260</td>\n",
       "      <td>-0.405240</td>\n",
       "      <td>0.988634</td>\n",
       "      <td>1.393352</td>\n",
       "      <td>0.364028</td>\n",
       "      <td>0.071662</td>\n",
       "    </tr>\n",
       "    <tr>\n",
       "      <th>3</th>\n",
       "      <td>0.532116</td>\n",
       "      <td>-0.532116</td>\n",
       "      <td>-0.178386</td>\n",
       "      <td>3.251927</td>\n",
       "      <td>-0.751161</td>\n",
       "      <td>-1.045125</td>\n",
       "      <td>1.738802</td>\n",
       "      <td>-0.586375</td>\n",
       "      <td>-0.582633</td>\n",
       "      <td>-0.565284</td>\n",
       "      <td>...</td>\n",
       "      <td>0.526956</td>\n",
       "      <td>0.260474</td>\n",
       "      <td>-0.045934</td>\n",
       "      <td>-0.275766</td>\n",
       "      <td>1.078933</td>\n",
       "      <td>0.917593</td>\n",
       "      <td>0.631120</td>\n",
       "      <td>1.015553</td>\n",
       "      <td>-0.759637</td>\n",
       "      <td>-0.571513</td>\n",
       "    </tr>\n",
       "    <tr>\n",
       "      <th>4</th>\n",
       "      <td>0.532116</td>\n",
       "      <td>-0.532116</td>\n",
       "      <td>-0.178386</td>\n",
       "      <td>-0.307510</td>\n",
       "      <td>-0.751161</td>\n",
       "      <td>0.956823</td>\n",
       "      <td>-0.575109</td>\n",
       "      <td>1.705392</td>\n",
       "      <td>-0.582633</td>\n",
       "      <td>-0.565284</td>\n",
       "      <td>...</td>\n",
       "      <td>-1.647121</td>\n",
       "      <td>-1.266333</td>\n",
       "      <td>0.765057</td>\n",
       "      <td>-0.424254</td>\n",
       "      <td>0.862193</td>\n",
       "      <td>0.757690</td>\n",
       "      <td>-1.156446</td>\n",
       "      <td>-1.251240</td>\n",
       "      <td>-1.488502</td>\n",
       "      <td>-0.264543</td>\n",
       "    </tr>\n",
       "  </tbody>\n",
       "</table>\n",
       "<p>5 rows × 26 columns</p>\n",
       "</div>"
      ],
      "text/plain": [
       "   LluviaHoy_No  LluviaHoy_Yes  Koppen_Desert  Koppen_Grassland  \\\n",
       "0      0.532116      -0.532116      -0.178386         -0.307510   \n",
       "1      0.532116      -0.532116      -0.178386         -0.307510   \n",
       "2      0.532116      -0.532116      -0.178386         -0.307510   \n",
       "3      0.532116      -0.532116      -0.178386          3.251927   \n",
       "4      0.532116      -0.532116      -0.178386         -0.307510   \n",
       "\n",
       "   Koppen_Subtropical  Koppen_Temperate  Estacion_Invierno  Estacion_Otoño  \\\n",
       "0            1.331273         -1.045125          -0.575109       -0.586375   \n",
       "1           -0.751161          0.956823          -0.575109       -0.586375   \n",
       "2            1.331273         -1.045125          -0.575109       -0.586375   \n",
       "3           -0.751161         -1.045125           1.738802       -0.586375   \n",
       "4           -0.751161          0.956823          -0.575109        1.705392   \n",
       "\n",
       "   Estacion_Primavera  Estacion_Verano  ...    Vel9am    Vel3pm    Hum9am  \\\n",
       "0            1.716347        -0.565284  ... -0.801647  1.787281 -0.154067   \n",
       "1            1.716347        -0.565284  ... -1.043211  1.317494 -2.154512   \n",
       "2            1.716347        -0.565284  ...  1.251648 -1.031440  0.494726   \n",
       "3           -0.582633        -0.565284  ...  0.526956  0.260474 -0.045934   \n",
       "4           -0.582633        -0.565284  ... -1.647121 -1.266333  0.765057   \n",
       "\n",
       "     Hum3pm   Pres9am    Pre3pm    Nub9am    Nub3pm   Temp9am   Temp3pm  \n",
       "0  0.021209  0.183075 -0.041824 -1.156446 -0.117843  0.713276  0.495574  \n",
       "1  1.308101 -0.134811  0.016322 -0.083906  0.637754  0.242551 -1.185454  \n",
       "2  1.159613 -0.149260 -0.405240  0.988634  1.393352  0.364028  0.071662  \n",
       "3 -0.275766  1.078933  0.917593  0.631120  1.015553 -0.759637 -0.571513  \n",
       "4 -0.424254  0.862193  0.757690 -1.156446 -1.251240 -1.488502 -0.264543  \n",
       "\n",
       "[5 rows x 26 columns]"
      ]
     },
     "metadata": {},
     "output_type": "display_data"
    }
   ],
   "source": [
    "# Reunimos datos y nombres de columna de entrenamiento\n",
    "X_train = pd.DataFrame(\n",
    "    data = transformer_train.transform(X_train),\n",
    "    columns= transformer_train.get_feature_names_out()\n",
    ")\n",
    "display(X_train.head())"
   ]
  },
  {
   "cell_type": "code",
   "execution_count": 35,
   "metadata": {},
   "outputs": [
    {
     "data": {
      "text/html": [
       "<div>\n",
       "<style scoped>\n",
       "    .dataframe tbody tr th:only-of-type {\n",
       "        vertical-align: middle;\n",
       "    }\n",
       "\n",
       "    .dataframe tbody tr th {\n",
       "        vertical-align: top;\n",
       "    }\n",
       "\n",
       "    .dataframe thead th {\n",
       "        text-align: right;\n",
       "    }\n",
       "</style>\n",
       "<table border=\"1\" class=\"dataframe\">\n",
       "  <thead>\n",
       "    <tr style=\"text-align: right;\">\n",
       "      <th></th>\n",
       "      <th>LluviaHoy_No</th>\n",
       "      <th>LluviaHoy_Yes</th>\n",
       "      <th>Koppen_Desert</th>\n",
       "      <th>Koppen_Grassland</th>\n",
       "      <th>Koppen_Subtropical</th>\n",
       "      <th>Koppen_Temperate</th>\n",
       "      <th>Estacion_Invierno</th>\n",
       "      <th>Estacion_Otoño</th>\n",
       "      <th>Estacion_Primavera</th>\n",
       "      <th>Estacion_Verano</th>\n",
       "      <th>...</th>\n",
       "      <th>Vel9am</th>\n",
       "      <th>Vel3pm</th>\n",
       "      <th>Hum9am</th>\n",
       "      <th>Hum3pm</th>\n",
       "      <th>Pres9am</th>\n",
       "      <th>Pre3pm</th>\n",
       "      <th>Nub9am</th>\n",
       "      <th>Nub3pm</th>\n",
       "      <th>Temp9am</th>\n",
       "      <th>Temp3pm</th>\n",
       "    </tr>\n",
       "  </thead>\n",
       "  <tbody>\n",
       "    <tr>\n",
       "      <th>0</th>\n",
       "      <td>1.0</td>\n",
       "      <td>0.0</td>\n",
       "      <td>0.0</td>\n",
       "      <td>0.0</td>\n",
       "      <td>1.0</td>\n",
       "      <td>0.0</td>\n",
       "      <td>0.0</td>\n",
       "      <td>0.0</td>\n",
       "      <td>0.0</td>\n",
       "      <td>1.0</td>\n",
       "      <td>...</td>\n",
       "      <td>0.983230</td>\n",
       "      <td>0.494425</td>\n",
       "      <td>-0.535291</td>\n",
       "      <td>-1.024401</td>\n",
       "      <td>-0.647251</td>\n",
       "      <td>-0.717227</td>\n",
       "      <td>-1.164776</td>\n",
       "      <td>-1.646956</td>\n",
       "      <td>1.070959</td>\n",
       "      <td>1.668422</td>\n",
       "    </tr>\n",
       "    <tr>\n",
       "      <th>1</th>\n",
       "      <td>0.0</td>\n",
       "      <td>1.0</td>\n",
       "      <td>0.0</td>\n",
       "      <td>0.0</td>\n",
       "      <td>1.0</td>\n",
       "      <td>0.0</td>\n",
       "      <td>0.0</td>\n",
       "      <td>1.0</td>\n",
       "      <td>0.0</td>\n",
       "      <td>0.0</td>\n",
       "      <td>...</td>\n",
       "      <td>0.507237</td>\n",
       "      <td>0.023827</td>\n",
       "      <td>-0.804787</td>\n",
       "      <td>-0.380221</td>\n",
       "      <td>-0.022479</td>\n",
       "      <td>0.202309</td>\n",
       "      <td>-1.164776</td>\n",
       "      <td>-0.891570</td>\n",
       "      <td>0.258891</td>\n",
       "      <td>0.291294</td>\n",
       "    </tr>\n",
       "    <tr>\n",
       "      <th>2</th>\n",
       "      <td>0.0</td>\n",
       "      <td>1.0</td>\n",
       "      <td>0.0</td>\n",
       "      <td>0.0</td>\n",
       "      <td>0.0</td>\n",
       "      <td>1.0</td>\n",
       "      <td>0.0</td>\n",
       "      <td>1.0</td>\n",
       "      <td>0.0</td>\n",
       "      <td>0.0</td>\n",
       "      <td>...</td>\n",
       "      <td>0.507237</td>\n",
       "      <td>0.259126</td>\n",
       "      <td>0.057599</td>\n",
       "      <td>0.412617</td>\n",
       "      <td>0.079229</td>\n",
       "      <td>0.625587</td>\n",
       "      <td>-0.449765</td>\n",
       "      <td>0.619201</td>\n",
       "      <td>-0.200770</td>\n",
       "      <td>-0.221466</td>\n",
       "    </tr>\n",
       "    <tr>\n",
       "      <th>3</th>\n",
       "      <td>1.0</td>\n",
       "      <td>0.0</td>\n",
       "      <td>0.0</td>\n",
       "      <td>0.0</td>\n",
       "      <td>1.0</td>\n",
       "      <td>0.0</td>\n",
       "      <td>0.0</td>\n",
       "      <td>1.0</td>\n",
       "      <td>0.0</td>\n",
       "      <td>0.0</td>\n",
       "      <td>...</td>\n",
       "      <td>-0.801744</td>\n",
       "      <td>-0.564419</td>\n",
       "      <td>0.111499</td>\n",
       "      <td>-0.528878</td>\n",
       "      <td>1.997134</td>\n",
       "      <td>1.837040</td>\n",
       "      <td>-1.164776</td>\n",
       "      <td>-1.269263</td>\n",
       "      <td>-0.614465</td>\n",
       "      <td>-0.133565</td>\n",
       "    </tr>\n",
       "    <tr>\n",
       "      <th>4</th>\n",
       "      <td>1.0</td>\n",
       "      <td>0.0</td>\n",
       "      <td>0.0</td>\n",
       "      <td>0.0</td>\n",
       "      <td>0.0</td>\n",
       "      <td>1.0</td>\n",
       "      <td>1.0</td>\n",
       "      <td>0.0</td>\n",
       "      <td>0.0</td>\n",
       "      <td>0.0</td>\n",
       "      <td>...</td>\n",
       "      <td>0.150242</td>\n",
       "      <td>0.965022</td>\n",
       "      <td>0.488793</td>\n",
       "      <td>0.462170</td>\n",
       "      <td>0.849297</td>\n",
       "      <td>0.932099</td>\n",
       "      <td>-1.164776</td>\n",
       "      <td>-0.513877</td>\n",
       "      <td>-1.120092</td>\n",
       "      <td>-1.305588</td>\n",
       "    </tr>\n",
       "  </tbody>\n",
       "</table>\n",
       "<p>5 rows × 26 columns</p>\n",
       "</div>"
      ],
      "text/plain": [
       "   LluviaHoy_No  LluviaHoy_Yes  Koppen_Desert  Koppen_Grassland  \\\n",
       "0           1.0            0.0            0.0               0.0   \n",
       "1           0.0            1.0            0.0               0.0   \n",
       "2           0.0            1.0            0.0               0.0   \n",
       "3           1.0            0.0            0.0               0.0   \n",
       "4           1.0            0.0            0.0               0.0   \n",
       "\n",
       "   Koppen_Subtropical  Koppen_Temperate  Estacion_Invierno  Estacion_Otoño  \\\n",
       "0                 1.0               0.0                0.0             0.0   \n",
       "1                 1.0               0.0                0.0             1.0   \n",
       "2                 0.0               1.0                0.0             1.0   \n",
       "3                 1.0               0.0                0.0             1.0   \n",
       "4                 0.0               1.0                1.0             0.0   \n",
       "\n",
       "   Estacion_Primavera  Estacion_Verano  ...    Vel9am    Vel3pm    Hum9am  \\\n",
       "0                 0.0              1.0  ...  0.983230  0.494425 -0.535291   \n",
       "1                 0.0              0.0  ...  0.507237  0.023827 -0.804787   \n",
       "2                 0.0              0.0  ...  0.507237  0.259126  0.057599   \n",
       "3                 0.0              0.0  ... -0.801744 -0.564419  0.111499   \n",
       "4                 0.0              0.0  ...  0.150242  0.965022  0.488793   \n",
       "\n",
       "     Hum3pm   Pres9am    Pre3pm    Nub9am    Nub3pm   Temp9am   Temp3pm  \n",
       "0 -1.024401 -0.647251 -0.717227 -1.164776 -1.646956  1.070959  1.668422  \n",
       "1 -0.380221 -0.022479  0.202309 -1.164776 -0.891570  0.258891  0.291294  \n",
       "2  0.412617  0.079229  0.625587 -0.449765  0.619201 -0.200770 -0.221466  \n",
       "3 -0.528878  1.997134  1.837040 -1.164776 -1.269263 -0.614465 -0.133565  \n",
       "4  0.462170  0.849297  0.932099 -1.164776 -0.513877 -1.120092 -1.305588  \n",
       "\n",
       "[5 rows x 26 columns]"
      ]
     },
     "metadata": {},
     "output_type": "display_data"
    }
   ],
   "source": [
    "# Reunimos datos y nombres de columna de testeo\n",
    "X_test = pd.DataFrame(\n",
    "    data = transformer_test.transform(X_test),\n",
    "    columns= transformer_test.get_feature_names_out()\n",
    ")\n",
    "display(X_test.head())"
   ]
  },
  {
   "cell_type": "markdown",
   "metadata": {},
   "source": [
    "#### Regresión Logística"
   ]
  },
  {
   "cell_type": "code",
   "execution_count": 38,
   "metadata": {},
   "outputs": [],
   "source": [
    "# Cargamos las library para las métricas y ca curva roc\n",
    "from sklearn.metrics import confusion_matrix, classification_report\n",
    "from sklearn.metrics import RocCurveDisplay"
   ]
  },
  {
   "cell_type": "code",
   "execution_count": 48,
   "metadata": {},
   "outputs": [],
   "source": [
    "# Función de resultados\n",
    "def mostrar_resultados(y_test, y_pred,X_test,modelo):\n",
    "    conf_matrix = confusion_matrix(y_test,y_pred)\n",
    "    plt.figure(figsize=(5,5))\n",
    "    sns.heatmap(conf_matrix, annot=True, fmt=\"d\")\n",
    "    plt.title(\"Matriz de confusion\")\n",
    "    plt.ylabel(\"Valores reales\")\n",
    "    plt.xlabel(\"Predicciones\")\n",
    "    plt.show()\n",
    "    fig, ax = plt.subplots(figsize=(8,6))\n",
    "    RocCurveDisplay.from_estimator(\n",
    "        estimator = modelo,\n",
    "        X = X_test,\n",
    "        y = y_test,\n",
    "        ax= ax\n",
    "    )\n",
    "    ax.plot([0,1],ls='--')\n",
    "    ax.set_title(\"ROC\")\n",
    "    print(f'Reporte de clasificación:\\n{classification_report(y_test,y_pred)}')"
   ]
  },
  {
   "cell_type": "code",
   "execution_count": 49,
   "metadata": {},
   "outputs": [
    {
     "data": {
      "image/png": "[encoded data removed]",
      "text/plain": [
       "<Figure size 500x500 with 2 Axes>"
      ]
     },
     "metadata": {},
     "output_type": "display_data"
    },
    {
     "name": "stdout",
     "output_type": "stream",
     "text": [
      "Reporte de clasificación:\n",
      "              precision    recall  f1-score   support\n",
      "\n",
      "           0       0.87      0.96      0.91     13198\n",
      "           1       0.77      0.51      0.61      3728\n",
      "\n",
      "    accuracy                           0.86     16926\n",
      "   macro avg       0.82      0.73      0.76     16926\n",
      "weighted avg       0.85      0.86      0.85     16926\n",
      "\n"
     ]
    },
    {
     "data": {
      "image/png": "[encoded data removed]",
      "text/plain": [
       "<Figure size 800x600 with 1 Axes>"
      ]
     },
     "metadata": {},
     "output_type": "display_data"
    }
   ],
   "source": [
    "# Regresión logística\n",
    "from sklearn.linear_model import LogisticRegression\n",
    "modlog = LogisticRegression()\n",
    "modlog.fit(X_train,y_train)\n",
    "y_predlog = modlog.predict(X_test)\n",
    "mostrar_resultados(y_test, y_predlog,X_test,modlog)"
   ]
  },
  {
   "cell_type": "code",
   "execution_count": 50,
   "metadata": {},
   "outputs": [
    {
     "name": "stdout",
     "output_type": "stream",
     "text": [
      "Area bajo la curva:  0.8897444387789281\n"
     ]
    }
   ],
   "source": [
    "# Área bajo la curva en regresión logística\n",
    "from sklearn.metrics import roc_auc_score\n",
    "y_problog = modlog.predict_proba(X_test)[:,1]\n",
    "print(\"Area bajo la curva: \", roc_auc_score(y_test,y_problog))"
   ]
  },
  {
   "cell_type": "markdown",
   "metadata": {},
   "source": [
    "#### 2. Definir la grilla de hiperparámetros a optimizar, en este caso:\n",
    "\n",
    "$SVM$\n",
    "\n",
    "\n",
    "Costo\n",
    "\n",
    "$Árbol de clasificación:$\n",
    "\n",
    "\n",
    "Observaciones mínimas para división.\n",
    "\n",
    "Costo de complejidad.\n",
    "\n",
    "Profundidad máxima del árbol.\n",
    "\n",
    "$Random Forest$\n",
    "\n",
    "Número de árboles.\n",
    "\n",
    "Número de predictores muestreados para cada árbol.\n",
    "\n",
    "Observaciones mínimas para división.\n",
    "\n",
    "#### 3. Buscar los hiperparámetros óptimos utilizando validación cruzada optimizando la métrica de roc_auc"
   ]
  },
  {
   "cell_type": "markdown",
   "metadata": {},
   "source": [
    "#### SVM"
   ]
  },
  {
   "cell_type": "code",
   "execution_count": 52,
   "metadata": {},
   "outputs": [
    {
     "data": {
      "text/html": [
       "<style>#sk-container-id-4 {color: black;}#sk-container-id-4 pre{padding: 0;}#sk-container-id-4 div.sk-toggleable {background-color: white;}#sk-container-id-4 label.sk-toggleable__label {cursor: pointer;display: block;width: 100%;margin-bottom: 0;padding: 0.3em;box-sizing: border-box;text-align: center;}#sk-container-id-4 label.sk-toggleable__label-arrow:before {content: \"▸\";float: left;margin-right: 0.25em;color: #696969;}#sk-container-id-4 label.sk-toggleable__label-arrow:hover:before {color: black;}#sk-container-id-4 div.sk-estimator:hover label.sk-toggleable__label-arrow:before {color: black;}#sk-container-id-4 div.sk-toggleable__content {max-height: 0;max-width: 0;overflow: hidden;text-align: left;background-color: #f0f8ff;}#sk-container-id-4 div.sk-toggleable__content pre {margin: 0.2em;color: black;border-radius: 0.25em;background-color: #f0f8ff;}#sk-container-id-4 input.sk-toggleable__control:checked~div.sk-toggleable__content {max-height: 200px;max-width: 100%;overflow: auto;}#sk-container-id-4 input.sk-toggleable__control:checked~label.sk-toggleable__label-arrow:before {content: \"▾\";}#sk-container-id-4 div.sk-estimator input.sk-toggleable__control:checked~label.sk-toggleable__label {background-color: #d4ebff;}#sk-container-id-4 div.sk-label input.sk-toggleable__control:checked~label.sk-toggleable__label {background-color: #d4ebff;}#sk-container-id-4 input.sk-hidden--visually {border: 0;clip: rect(1px 1px 1px 1px);clip: rect(1px, 1px, 1px, 1px);height: 1px;margin: -1px;overflow: hidden;padding: 0;position: absolute;width: 1px;}#sk-container-id-4 div.sk-estimator {font-family: monospace;background-color: #f0f8ff;border: 1px dotted black;border-radius: 0.25em;box-sizing: border-box;margin-bottom: 0.5em;}#sk-container-id-4 div.sk-estimator:hover {background-color: #d4ebff;}#sk-container-id-4 div.sk-parallel-item::after {content: \"\";width: 100%;border-bottom: 1px solid gray;flex-grow: 1;}#sk-container-id-4 div.sk-label:hover label.sk-toggleable__label {background-color: #d4ebff;}#sk-container-id-4 div.sk-serial::before {content: \"\";position: absolute;border-left: 1px solid gray;box-sizing: border-box;top: 0;bottom: 0;left: 50%;z-index: 0;}#sk-container-id-4 div.sk-serial {display: flex;flex-direction: column;align-items: center;background-color: white;padding-right: 0.2em;padding-left: 0.2em;position: relative;}#sk-container-id-4 div.sk-item {position: relative;z-index: 1;}#sk-container-id-4 div.sk-parallel {display: flex;align-items: stretch;justify-content: center;background-color: white;position: relative;}#sk-container-id-4 div.sk-item::before, #sk-container-id-4 div.sk-parallel-item::before {content: \"\";position: absolute;border-left: 1px solid gray;box-sizing: border-box;top: 0;bottom: 0;left: 50%;z-index: -1;}#sk-container-id-4 div.sk-parallel-item {display: flex;flex-direction: column;z-index: 1;position: relative;background-color: white;}#sk-container-id-4 div.sk-parallel-item:first-child::after {align-self: flex-end;width: 50%;}#sk-container-id-4 div.sk-parallel-item:last-child::after {align-self: flex-start;width: 50%;}#sk-container-id-4 div.sk-parallel-item:only-child::after {width: 0;}#sk-container-id-4 div.sk-dashed-wrapped {border: 1px dashed gray;margin: 0 0.4em 0.5em 0.4em;box-sizing: border-box;padding-bottom: 0.4em;background-color: white;}#sk-container-id-4 div.sk-label label {font-family: monospace;font-weight: bold;display: inline-block;line-height: 1.2em;}#sk-container-id-4 div.sk-label-container {text-align: center;}#sk-container-id-4 div.sk-container {/* jupyter's `normalize.less` sets `[hidden] { display: none; }` but bootstrap.min.css set `[hidden] { display: none !important; }` so we also need the `!important` here to be able to override the default hidden behavior on the sphinx rendered scikit-learn.org. See: https://github.com/scikit-learn/scikit-learn/issues/21755 */display: inline-block !important;position: relative;}#sk-container-id-4 div.sk-text-repr-fallback {display: none;}</style><div id=\"sk-container-id-4\" class=\"sk-top-container\"><div class=\"sk-text-repr-fallback\"><pre>SVC(random_state=2023)</pre><b>In a Jupyter environment, please rerun this cell to show the HTML representation or trust the notebook. <br />On GitHub, the HTML representation is unable to render, please try loading this page with nbviewer.org.</b></div><div class=\"sk-container\" hidden><div class=\"sk-item\"><div class=\"sk-estimator sk-toggleable\"><input class=\"sk-toggleable__control sk-hidden--visually\" id=\"sk-estimator-id-22\" type=\"checkbox\" checked><label for=\"sk-estimator-id-22\" class=\"sk-toggleable__label sk-toggleable__label-arrow\">SVC</label><div class=\"sk-toggleable__content\"><pre>SVC(random_state=2023)</pre></div></div></div></div></div>"
      ],
      "text/plain": [
       "SVC(random_state=2023)"
      ]
     },
     "execution_count": 52,
     "metadata": {},
     "output_type": "execute_result"
    }
   ],
   "source": [
    "# Importar librerías de SVM\n",
    "from sklearn.svm import SVC \n",
    "from mlxtend.plotting import plot_decision_regions\n",
    "\n",
    "svm = SVC(random_state=2023)\n",
    "svm.fit(X_train,y_train)"
   ]
  },
  {
   "cell_type": "code",
   "execution_count": 53,
   "metadata": {},
   "outputs": [
    {
     "data": {
      "image/png": "[encoded data removed]",
      "text/plain": [
       "<Figure size 500x500 with 2 Axes>"
      ]
     },
     "metadata": {},
     "output_type": "display_data"
    },
    {
     "name": "stdout",
     "output_type": "stream",
     "text": [
      "Reporte de clasificación:\n",
      "              precision    recall  f1-score   support\n",
      "\n",
      "           0       0.87      0.97      0.92     13198\n",
      "           1       0.80      0.49      0.61      3728\n",
      "\n",
      "    accuracy                           0.86     16926\n",
      "   macro avg       0.84      0.73      0.76     16926\n",
      "weighted avg       0.85      0.86      0.85     16926\n",
      "\n"
     ]
    },
    {
     "data": {
      "image/png": "[encoded data removed]",
      "text/plain": [
       "<Figure size 800x600 with 1 Axes>"
      ]
     },
     "metadata": {},
     "output_type": "display_data"
    }
   ],
   "source": [
    "# Mostrar los resultados de SVM\n",
    "y_predsvm = svm.predict(X_test)\n",
    "mostrar_resultados(y_test, y_predsvm, X_test, svm)"
   ]
  },
  {
   "cell_type": "code",
   "execution_count": 54,
   "metadata": {},
   "outputs": [
    {
     "name": "stdout",
     "output_type": "stream",
     "text": [
      "Fitting 5 folds for each of 45 candidates, totalling 225 fits\n"
     ]
    },
    {
     "data": {
      "text/html": [
       "<style>#sk-container-id-5 {color: black;}#sk-container-id-5 pre{padding: 0;}#sk-container-id-5 div.sk-toggleable {background-color: white;}#sk-container-id-5 label.sk-toggleable__label {cursor: pointer;display: block;width: 100%;margin-bottom: 0;padding: 0.3em;box-sizing: border-box;text-align: center;}#sk-container-id-5 label.sk-toggleable__label-arrow:before {content: \"▸\";float: left;margin-right: 0.25em;color: #696969;}#sk-container-id-5 label.sk-toggleable__label-arrow:hover:before {color: black;}#sk-container-id-5 div.sk-estimator:hover label.sk-toggleable__label-arrow:before {color: black;}#sk-container-id-5 div.sk-toggleable__content {max-height: 0;max-width: 0;overflow: hidden;text-align: left;background-color: #f0f8ff;}#sk-container-id-5 div.sk-toggleable__content pre {margin: 0.2em;color: black;border-radius: 0.25em;background-color: #f0f8ff;}#sk-container-id-5 input.sk-toggleable__control:checked~div.sk-toggleable__content {max-height: 200px;max-width: 100%;overflow: auto;}#sk-container-id-5 input.sk-toggleable__control:checked~label.sk-toggleable__label-arrow:before {content: \"▾\";}#sk-container-id-5 div.sk-estimator input.sk-toggleable__control:checked~label.sk-toggleable__label {background-color: #d4ebff;}#sk-container-id-5 div.sk-label input.sk-toggleable__control:checked~label.sk-toggleable__label {background-color: #d4ebff;}#sk-container-id-5 input.sk-hidden--visually {border: 0;clip: rect(1px 1px 1px 1px);clip: rect(1px, 1px, 1px, 1px);height: 1px;margin: -1px;overflow: hidden;padding: 0;position: absolute;width: 1px;}#sk-container-id-5 div.sk-estimator {font-family: monospace;background-color: #f0f8ff;border: 1px dotted black;border-radius: 0.25em;box-sizing: border-box;margin-bottom: 0.5em;}#sk-container-id-5 div.sk-estimator:hover {background-color: #d4ebff;}#sk-container-id-5 div.sk-parallel-item::after {content: \"\";width: 100%;border-bottom: 1px solid gray;flex-grow: 1;}#sk-container-id-5 div.sk-label:hover label.sk-toggleable__label {background-color: #d4ebff;}#sk-container-id-5 div.sk-serial::before {content: \"\";position: absolute;border-left: 1px solid gray;box-sizing: border-box;top: 0;bottom: 0;left: 50%;z-index: 0;}#sk-container-id-5 div.sk-serial {display: flex;flex-direction: column;align-items: center;background-color: white;padding-right: 0.2em;padding-left: 0.2em;position: relative;}#sk-container-id-5 div.sk-item {position: relative;z-index: 1;}#sk-container-id-5 div.sk-parallel {display: flex;align-items: stretch;justify-content: center;background-color: white;position: relative;}#sk-container-id-5 div.sk-item::before, #sk-container-id-5 div.sk-parallel-item::before {content: \"\";position: absolute;border-left: 1px solid gray;box-sizing: border-box;top: 0;bottom: 0;left: 50%;z-index: -1;}#sk-container-id-5 div.sk-parallel-item {display: flex;flex-direction: column;z-index: 1;position: relative;background-color: white;}#sk-container-id-5 div.sk-parallel-item:first-child::after {align-self: flex-end;width: 50%;}#sk-container-id-5 div.sk-parallel-item:last-child::after {align-self: flex-start;width: 50%;}#sk-container-id-5 div.sk-parallel-item:only-child::after {width: 0;}#sk-container-id-5 div.sk-dashed-wrapped {border: 1px dashed gray;margin: 0 0.4em 0.5em 0.4em;box-sizing: border-box;padding-bottom: 0.4em;background-color: white;}#sk-container-id-5 div.sk-label label {font-family: monospace;font-weight: bold;display: inline-block;line-height: 1.2em;}#sk-container-id-5 div.sk-label-container {text-align: center;}#sk-container-id-5 div.sk-container {/* jupyter's `normalize.less` sets `[hidden] { display: none; }` but bootstrap.min.css set `[hidden] { display: none !important; }` so we also need the `!important` here to be able to override the default hidden behavior on the sphinx rendered scikit-learn.org. See: https://github.com/scikit-learn/scikit-learn/issues/21755 */display: inline-block !important;position: relative;}#sk-container-id-5 div.sk-text-repr-fallback {display: none;}</style><div id=\"sk-container-id-5\" class=\"sk-top-container\"><div class=\"sk-text-repr-fallback\"><pre>GridSearchCV(cv=KFold(n_splits=5, random_state=2023, shuffle=True),\n",
       "             estimator=SVC(random_state=2023), n_jobs=-1,\n",
       "             param_grid={&#x27;C&#x27;: array([1.00000000e-04, 2.27584593e-04, 5.17947468e-04, 1.17876863e-03,\n",
       "       2.68269580e-03, 6.10540230e-03, 1.38949549e-02, 3.16227766e-02,\n",
       "       7.19685673e-02, 1.63789371e-01, 3.72759372e-01, 8.48342898e-01,\n",
       "       1.93069773e+00, 4.39397056e+00, 1.00000000e+01]),\n",
       "                         &#x27;kernel&#x27;: [&#x27;rbf&#x27;, &#x27;linear&#x27;, &#x27;poly&#x27;]},\n",
       "             scoring=&#x27;roc_auc&#x27;, verbose=1)</pre><b>In a Jupyter environment, please rerun this cell to show the HTML representation or trust the notebook. <br />On GitHub, the HTML representation is unable to render, please try loading this page with nbviewer.org.</b></div><div class=\"sk-container\" hidden><div class=\"sk-item sk-dashed-wrapped\"><div class=\"sk-label-container\"><div class=\"sk-label sk-toggleable\"><input class=\"sk-toggleable__control sk-hidden--visually\" id=\"sk-estimator-id-23\" type=\"checkbox\" ><label for=\"sk-estimator-id-23\" class=\"sk-toggleable__label sk-toggleable__label-arrow\">GridSearchCV</label><div class=\"sk-toggleable__content\"><pre>GridSearchCV(cv=KFold(n_splits=5, random_state=2023, shuffle=True),\n",
       "             estimator=SVC(random_state=2023), n_jobs=-1,\n",
       "             param_grid={&#x27;C&#x27;: array([1.00000000e-04, 2.27584593e-04, 5.17947468e-04, 1.17876863e-03,\n",
       "       2.68269580e-03, 6.10540230e-03, 1.38949549e-02, 3.16227766e-02,\n",
       "       7.19685673e-02, 1.63789371e-01, 3.72759372e-01, 8.48342898e-01,\n",
       "       1.93069773e+00, 4.39397056e+00, 1.00000000e+01]),\n",
       "                         &#x27;kernel&#x27;: [&#x27;rbf&#x27;, &#x27;linear&#x27;, &#x27;poly&#x27;]},\n",
       "             scoring=&#x27;roc_auc&#x27;, verbose=1)</pre></div></div></div><div class=\"sk-parallel\"><div class=\"sk-parallel-item\"><div class=\"sk-item\"><div class=\"sk-label-container\"><div class=\"sk-label sk-toggleable\"><input class=\"sk-toggleable__control sk-hidden--visually\" id=\"sk-estimator-id-24\" type=\"checkbox\" ><label for=\"sk-estimator-id-24\" class=\"sk-toggleable__label sk-toggleable__label-arrow\">estimator: SVC</label><div class=\"sk-toggleable__content\"><pre>SVC(random_state=2023)</pre></div></div></div><div class=\"sk-serial\"><div class=\"sk-item\"><div class=\"sk-estimator sk-toggleable\"><input class=\"sk-toggleable__control sk-hidden--visually\" id=\"sk-estimator-id-25\" type=\"checkbox\" ><label for=\"sk-estimator-id-25\" class=\"sk-toggleable__label sk-toggleable__label-arrow\">SVC</label><div class=\"sk-toggleable__content\"><pre>SVC(random_state=2023)</pre></div></div></div></div></div></div></div></div></div></div>"
      ],
      "text/plain": [
       "GridSearchCV(cv=KFold(n_splits=5, random_state=2023, shuffle=True),\n",
       "             estimator=SVC(random_state=2023), n_jobs=-1,\n",
       "             param_grid={'C': array([1.00000000e-04, 2.27584593e-04, 5.17947468e-04, 1.17876863e-03,\n",
       "       2.68269580e-03, 6.10540230e-03, 1.38949549e-02, 3.16227766e-02,\n",
       "       7.19685673e-02, 1.63789371e-01, 3.72759372e-01, 8.48342898e-01,\n",
       "       1.93069773e+00, 4.39397056e+00, 1.00000000e+01]),\n",
       "                         'kernel': ['rbf', 'linear', 'poly']},\n",
       "             scoring='roc_auc', verbose=1)"
      ]
     },
     "execution_count": 54,
     "metadata": {},
     "output_type": "execute_result"
    }
   ],
   "source": [
    "# Importar library para optimizar hiperparámetros\n",
    "\n",
    "from sklearn.model_selection import GridSearchCV, KFold\n",
    "import numpy as np\n",
    "\n",
    "# Definición de hiperparámetros y configuración \n",
    "\n",
    "hiperparametros = {\"kernel\" : [\"rbf\", \"linear\", \"poly\"],\n",
    "                   \"C\": np.logspace(-4,1,15)}\n",
    "\n",
    "configuraciones = KFold(n_splits = 5, shuffle=True, random_state=2023)\n",
    "modelo = SVC(random_state=2023)\n",
    "\n",
    "# Optimización de hiperparámetros\n",
    "modelos = GridSearchCV(\n",
    "    estimator = modelo,\n",
    "    param_grid= hiperparametros, \n",
    "    cv = configuraciones,  \n",
    "    scoring = 'roc_auc', \n",
    "    n_jobs = -1 ,   \n",
    "    verbose = 1  \n",
    ")\n",
    "modelos.fit(X_train, y_train)"
   ]
  },
  {
   "cell_type": "code",
   "execution_count": 55,
   "metadata": {},
   "outputs": [
    {
     "name": "stdout",
     "output_type": "stream",
     "text": [
      "{'C': 0.013894954943731374, 'kernel': 'linear'}\n"
     ]
    }
   ],
   "source": [
    "# Mejores parámetros para SVM\n",
    "print(modelos.best_params_)"
   ]
  },
  {
   "cell_type": "code",
   "execution_count": 56,
   "metadata": {},
   "outputs": [],
   "source": [
    "# Resultados con mejores parámetros\n",
    "svm2 = modelos.best_estimator_.fit(X_train, y_train)"
   ]
  },
  {
   "cell_type": "code",
   "execution_count": 57,
   "metadata": {},
   "outputs": [
    {
     "data": {
      "image/png": "[encoded data removed]",
      "text/plain": [
       "<Figure size 500x500 with 2 Axes>"
      ]
     },
     "metadata": {},
     "output_type": "display_data"
    },
    {
     "name": "stdout",
     "output_type": "stream",
     "text": [
      "Reporte de clasificación:\n",
      "              precision    recall  f1-score   support\n",
      "\n",
      "           0       0.87      0.96      0.91     13198\n",
      "           1       0.78      0.48      0.59      3728\n",
      "\n",
      "    accuracy                           0.86     16926\n",
      "   macro avg       0.83      0.72      0.75     16926\n",
      "weighted avg       0.85      0.86      0.84     16926\n",
      "\n"
     ]
    },
    {
     "data": {
      "image/png": "[encoded data removed]",
      "text/plain": [
       "<Figure size 800x600 with 1 Axes>"
      ]
     },
     "metadata": {},
     "output_type": "display_data"
    }
   ],
   "source": [
    "# Mostrar los resultados de SVM2\n",
    "\n",
    "y_predsvm2 = svm2.predict(X_test)\n",
    "mostrar_resultados(y_test,y_predsvm2,X_test, svm2)"
   ]
  },
  {
   "cell_type": "markdown",
   "metadata": {},
   "source": [
    "# Parte 3\n",
    "\n",
    "Compare los modelos ajustados utilizando el set de test, bajo el criterio de f1-score, ¿cuál es el mejor modelo en su caso?"
   ]
  }
 ],
 "metadata": {
  "kernelspec": {
   "display_name": "Python 3",
   "language": "python",
   "name": "python3"
  },
  "language_info": {
   "codemirror_mode": {
    "name": "ipython",
    "version": 3
   },
   "file_extension": ".py",
   "mimetype": "text/x-python",
   "name": "python",
   "nbconvert_exporter": "python",
   "pygments_lexer": "ipython3",
   "version": "3.11.4"
  },
  "orig_nbformat": 4
 },
 "nbformat": 4,
 "nbformat_minor": 2
}
