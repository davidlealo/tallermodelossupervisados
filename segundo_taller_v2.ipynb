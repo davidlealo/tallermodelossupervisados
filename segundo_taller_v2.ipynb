{
 "cells": [
  {
   "cell_type": "markdown",
   "metadata": {},
   "source": [
    "## Parte 1\n",
    "Cargue la base de datos Lluvia_full.csv, codifique la variable LluviaMan como 0 y 1 para los días sin lluvia y con lluvia respectivamente. Además, realice una separación de la base de datos en un set de entrenamiento y set de validación. Utilice una proporción de 70:30 respectivamente estratificado por la LluviaMan. Para poder replicar sus resultados, fije una semilla antes de obtener los indices. Para ello utilice la función set.seed(2023)."
   ]
  },
  {
   "cell_type": "code",
   "execution_count": 48,
   "metadata": {},
   "outputs": [],
   "source": [
    "import pandas as pd"
   ]
  },
  {
   "cell_type": "code",
   "execution_count": 49,
   "metadata": {},
   "outputs": [],
   "source": [
    "# Cargar base de datos lluvia_full.csv\n",
<<<<<<< HEAD
    "df = pd.read_csv('data/lluvia_full.csv', sep=',')"
=======
    "df = pd.read_csv('lluvia_full.csv', sep=',')"
>>>>>>> d326f59bb6343e2b7ce69f6e4ba79fdcb6a5748c
   ]
  },
  {
   "cell_type": "code",
   "execution_count": 50,
   "metadata": {},
   "outputs": [
    {
     "data": {
      "text/html": [
       "<div>\n",
       "<style scoped>\n",
       "    .dataframe tbody tr th:only-of-type {\n",
       "        vertical-align: middle;\n",
       "    }\n",
       "\n",
       "    .dataframe tbody tr th {\n",
       "        vertical-align: top;\n",
       "    }\n",
       "\n",
       "    .dataframe thead th {\n",
       "        text-align: right;\n",
       "    }\n",
       "</style>\n",
       "<table border=\"1\" class=\"dataframe\">\n",
       "  <thead>\n",
       "    <tr style=\"text-align: right;\">\n",
       "      <th></th>\n",
       "      <th>MinTemp</th>\n",
       "      <th>MaxTemp</th>\n",
       "      <th>Lluvia</th>\n",
       "      <th>Evaporacion</th>\n",
       "      <th>Sol</th>\n",
       "      <th>VelRafaga</th>\n",
       "      <th>Vel9am</th>\n",
       "      <th>Vel3pm</th>\n",
       "      <th>Hum9am</th>\n",
       "      <th>Hum3pm</th>\n",
       "      <th>Pres9am</th>\n",
       "      <th>Pre3pm</th>\n",
       "      <th>Nub9am</th>\n",
       "      <th>Nub3pm</th>\n",
       "      <th>Temp9am</th>\n",
       "      <th>Temp3pm</th>\n",
       "      <th>LluviaHoy</th>\n",
       "      <th>LluviaMan</th>\n",
       "      <th>Koppen</th>\n",
       "      <th>Estacion</th>\n",
       "    </tr>\n",
       "  </thead>\n",
       "  <tbody>\n",
       "    <tr>\n",
       "      <th>0</th>\n",
       "      <td>7.6</td>\n",
       "      <td>19.3</td>\n",
       "      <td>0.0</td>\n",
       "      <td>3.4</td>\n",
       "      <td>9.4</td>\n",
       "      <td>35.0</td>\n",
       "      <td>13.0</td>\n",
       "      <td>13.0</td>\n",
       "      <td>73.0</td>\n",
       "      <td>32.0</td>\n",
       "      <td>1018.6</td>\n",
       "      <td>1015.4</td>\n",
       "      <td>1.0</td>\n",
       "      <td>1.0</td>\n",
       "      <td>9.4</td>\n",
       "      <td>18.8</td>\n",
       "      <td>No</td>\n",
       "      <td>No</td>\n",
       "      <td>Subtropical</td>\n",
       "      <td>Invierno</td>\n",
       "    </tr>\n",
       "    <tr>\n",
       "      <th>1</th>\n",
       "      <td>6.8</td>\n",
       "      <td>19.5</td>\n",
       "      <td>0.0</td>\n",
       "      <td>3.4</td>\n",
       "      <td>9.4</td>\n",
       "      <td>46.0</td>\n",
       "      <td>19.0</td>\n",
       "      <td>28.0</td>\n",
       "      <td>67.0</td>\n",
       "      <td>42.0</td>\n",
       "      <td>1018.4</td>\n",
       "      <td>1015.2</td>\n",
       "      <td>1.0</td>\n",
       "      <td>1.0</td>\n",
       "      <td>11.9</td>\n",
       "      <td>17.9</td>\n",
       "      <td>No</td>\n",
       "      <td>No</td>\n",
       "      <td>Subtropical</td>\n",
       "      <td>Invierno</td>\n",
       "    </tr>\n",
       "    <tr>\n",
       "      <th>2</th>\n",
       "      <td>5.5</td>\n",
       "      <td>13.9</td>\n",
       "      <td>0.0</td>\n",
       "      <td>2.8</td>\n",
       "      <td>3.8</td>\n",
       "      <td>44.0</td>\n",
       "      <td>26.0</td>\n",
       "      <td>13.0</td>\n",
       "      <td>72.0</td>\n",
       "      <td>58.0</td>\n",
       "      <td>1017.8</td>\n",
       "      <td>1015.5</td>\n",
       "      <td>7.0</td>\n",
       "      <td>7.0</td>\n",
       "      <td>8.1</td>\n",
       "      <td>12.2</td>\n",
       "      <td>No</td>\n",
       "      <td>No</td>\n",
       "      <td>Temperate</td>\n",
       "      <td>Invierno</td>\n",
       "    </tr>\n",
       "    <tr>\n",
       "      <th>3</th>\n",
       "      <td>8.6</td>\n",
       "      <td>14.3</td>\n",
       "      <td>0.0</td>\n",
       "      <td>2.8</td>\n",
       "      <td>3.8</td>\n",
       "      <td>35.0</td>\n",
       "      <td>13.0</td>\n",
       "      <td>17.0</td>\n",
       "      <td>67.0</td>\n",
       "      <td>56.0</td>\n",
       "      <td>1017.4</td>\n",
       "      <td>1015.0</td>\n",
       "      <td>7.0</td>\n",
       "      <td>7.0</td>\n",
       "      <td>9.3</td>\n",
       "      <td>13.4</td>\n",
       "      <td>No</td>\n",
       "      <td>Yes</td>\n",
       "      <td>Temperate</td>\n",
       "      <td>Invierno</td>\n",
       "    </tr>\n",
       "    <tr>\n",
       "      <th>4</th>\n",
       "      <td>7.9</td>\n",
       "      <td>13.0</td>\n",
       "      <td>0.0</td>\n",
       "      <td>2.8</td>\n",
       "      <td>3.8</td>\n",
       "      <td>39.0</td>\n",
       "      <td>15.0</td>\n",
       "      <td>17.0</td>\n",
       "      <td>68.0</td>\n",
       "      <td>69.0</td>\n",
       "      <td>1017.6</td>\n",
       "      <td>1015.3</td>\n",
       "      <td>7.0</td>\n",
       "      <td>7.0</td>\n",
       "      <td>9.0</td>\n",
       "      <td>11.7</td>\n",
       "      <td>No</td>\n",
       "      <td>No</td>\n",
       "      <td>Temperate</td>\n",
       "      <td>Invierno</td>\n",
       "    </tr>\n",
       "  </tbody>\n",
       "</table>\n",
       "</div>"
      ],
      "text/plain": [
       "   MinTemp  MaxTemp  Lluvia  Evaporacion  Sol  VelRafaga  Vel9am  Vel3pm  \\\n",
       "0      7.6     19.3     0.0          3.4  9.4       35.0    13.0    13.0   \n",
       "1      6.8     19.5     0.0          3.4  9.4       46.0    19.0    28.0   \n",
       "2      5.5     13.9     0.0          2.8  3.8       44.0    26.0    13.0   \n",
       "3      8.6     14.3     0.0          2.8  3.8       35.0    13.0    17.0   \n",
       "4      7.9     13.0     0.0          2.8  3.8       39.0    15.0    17.0   \n",
       "\n",
       "   Hum9am  Hum3pm  Pres9am  Pre3pm  Nub9am  Nub3pm  Temp9am  Temp3pm  \\\n",
       "0    73.0    32.0   1018.6  1015.4     1.0     1.0      9.4     18.8   \n",
       "1    67.0    42.0   1018.4  1015.2     1.0     1.0     11.9     17.9   \n",
       "2    72.0    58.0   1017.8  1015.5     7.0     7.0      8.1     12.2   \n",
       "3    67.0    56.0   1017.4  1015.0     7.0     7.0      9.3     13.4   \n",
       "4    68.0    69.0   1017.6  1015.3     7.0     7.0      9.0     11.7   \n",
       "\n",
       "  LluviaHoy LluviaMan       Koppen  Estacion  \n",
       "0        No        No  Subtropical  Invierno  \n",
       "1        No        No  Subtropical  Invierno  \n",
       "2        No        No    Temperate  Invierno  \n",
       "3        No       Yes    Temperate  Invierno  \n",
       "4        No        No    Temperate  Invierno  "
      ]
     },
     "execution_count": 50,
     "metadata": {},
     "output_type": "execute_result"
    }
   ],
   "source": [
    "# Cargar head de datos\n",
    "df.head()"
   ]
  },
  {
   "cell_type": "code",
   "execution_count": 51,
   "metadata": {},
   "outputs": [
    {
     "data": {
      "text/plain": [
       "MinTemp        0\n",
       "MaxTemp        0\n",
       "Lluvia         0\n",
       "Evaporacion    0\n",
       "Sol            0\n",
       "VelRafaga      0\n",
       "Vel9am         0\n",
       "Vel3pm         0\n",
       "Hum9am         0\n",
       "Hum3pm         0\n",
       "Pres9am        0\n",
       "Pre3pm         0\n",
       "Nub9am         0\n",
       "Nub3pm         0\n",
       "Temp9am        0\n",
       "Temp3pm        0\n",
       "LluviaHoy      0\n",
       "LluviaMan      0\n",
       "Koppen         0\n",
       "Estacion       0\n",
       "dtype: int64"
      ]
     },
     "execution_count": 51,
     "metadata": {},
     "output_type": "execute_result"
    }
   ],
   "source": [
    "# Verificar si hay datos nulos\n",
    "df.isnull().sum()"
   ]
  },
  {
   "cell_type": "code",
   "execution_count": 52,
   "metadata": {},
   "outputs": [
    {
     "data": {
      "text/plain": [
       "LluviaMan\n",
       "0    43993\n",
       "1    12427\n",
       "Name: count, dtype: int64"
      ]
     },
     "execution_count": 52,
     "metadata": {},
     "output_type": "execute_result"
    }
   ],
   "source": [
    "# Codifique la variable LluviaMan como 0 y 1 para los días sin lluvia y con lluvia respectivamente\n",
    "df[\"LluviaMan\"].replace([\"No\",\"Yes\"], [0, 1], inplace = True)\n",
    "df['LluviaMan'].value_counts()"
   ]
  },
  {
   "cell_type": "code",
   "execution_count": 53,
   "metadata": {},
   "outputs": [
    {
     "name": "stdout",
     "output_type": "stream",
     "text": [
      "<class 'pandas.core.frame.DataFrame'>\n",
      "RangeIndex: 56420 entries, 0 to 56419\n",
      "Data columns (total 20 columns):\n",
      " #   Column       Non-Null Count  Dtype  \n",
      "---  ------       --------------  -----  \n",
      " 0   MinTemp      56420 non-null  float64\n",
      " 1   MaxTemp      56420 non-null  float64\n",
      " 2   Lluvia       56420 non-null  float64\n",
      " 3   Evaporacion  56420 non-null  float64\n",
      " 4   Sol          56420 non-null  float64\n",
      " 5   VelRafaga    56420 non-null  float64\n",
      " 6   Vel9am       56420 non-null  float64\n",
      " 7   Vel3pm       56420 non-null  float64\n",
      " 8   Hum9am       56420 non-null  float64\n",
      " 9   Hum3pm       56420 non-null  float64\n",
      " 10  Pres9am      56420 non-null  float64\n",
      " 11  Pre3pm       56420 non-null  float64\n",
      " 12  Nub9am       56420 non-null  float64\n",
      " 13  Nub3pm       56420 non-null  float64\n",
      " 14  Temp9am      56420 non-null  float64\n",
      " 15  Temp3pm      56420 non-null  float64\n",
      " 16  LluviaHoy    56420 non-null  object \n",
      " 17  LluviaMan    56420 non-null  int64  \n",
      " 18  Koppen       56420 non-null  object \n",
      " 19  Estacion     56420 non-null  object \n",
      "dtypes: float64(16), int64(1), object(3)\n",
      "memory usage: 8.6+ MB\n"
     ]
    }
   ],
   "source": [
    "# Información de dataframe\n",
    "df.info()"
   ]
  },
  {
   "cell_type": "code",
   "execution_count": 54,
   "metadata": {},
   "outputs": [],
   "source": [
    "# Separar datos estratificads por la variable LluviaMan\n",
    "\n",
    "from sklearn.model_selection import train_test_split\n",
    "\n",
    "df_y = df[\"LluviaMan\"]\n",
    "df_x = df.copy()\n",
    "df_x.drop([\"LluviaMan\"], axis = \"columns\", inplace =  True)\n",
    "df_x = pd.get_dummies(df_x, dtype = float)\n",
    "\n"
   ]
  },
  {
   "cell_type": "code",
   "execution_count": 55,
   "metadata": {},
   "outputs": [
    {
     "name": "stdout",
     "output_type": "stream",
     "text": [
      "<class 'pandas.core.frame.DataFrame'>\n",
      "RangeIndex: 56420 entries, 0 to 56419\n",
      "Data columns (total 26 columns):\n",
      " #   Column              Non-Null Count  Dtype  \n",
      "---  ------              --------------  -----  \n",
      " 0   MinTemp             56420 non-null  float64\n",
      " 1   MaxTemp             56420 non-null  float64\n",
      " 2   Lluvia              56420 non-null  float64\n",
      " 3   Evaporacion         56420 non-null  float64\n",
      " 4   Sol                 56420 non-null  float64\n",
      " 5   VelRafaga           56420 non-null  float64\n",
      " 6   Vel9am              56420 non-null  float64\n",
      " 7   Vel3pm              56420 non-null  float64\n",
      " 8   Hum9am              56420 non-null  float64\n",
      " 9   Hum3pm              56420 non-null  float64\n",
      " 10  Pres9am             56420 non-null  float64\n",
      " 11  Pre3pm              56420 non-null  float64\n",
      " 12  Nub9am              56420 non-null  float64\n",
      " 13  Nub3pm              56420 non-null  float64\n",
      " 14  Temp9am             56420 non-null  float64\n",
      " 15  Temp3pm             56420 non-null  float64\n",
      " 16  LluviaHoy_No        56420 non-null  float64\n",
      " 17  LluviaHoy_Yes       56420 non-null  float64\n",
      " 18  Koppen_Desert       56420 non-null  float64\n",
      " 19  Koppen_Grassland    56420 non-null  float64\n",
      " 20  Koppen_Subtropical  56420 non-null  float64\n",
      " 21  Koppen_Temperate    56420 non-null  float64\n",
      " 22  Estacion_Invierno   56420 non-null  float64\n",
      " 23  Estacion_Otoño      56420 non-null  float64\n",
      " 24  Estacion_Primavera  56420 non-null  float64\n",
      " 25  Estacion_Verano     56420 non-null  float64\n",
      "dtypes: float64(26)\n",
      "memory usage: 11.2 MB\n"
     ]
    }
   ],
   "source": [
    "# Ver información de los datos erificando datos de df_x \n",
    "\n",
    "df_x.info()"
   ]
  },
  {
   "cell_type": "code",
   "execution_count": 56,
   "metadata": {},
   "outputs": [
    {
     "name": "stdout",
     "output_type": "stream",
     "text": [
      "<class 'pandas.core.series.Series'>\n",
      "RangeIndex: 56420 entries, 0 to 56419\n",
      "Series name: LluviaMan\n",
      "Non-Null Count  Dtype\n",
      "--------------  -----\n",
      "56420 non-null  int64\n",
      "dtypes: int64(1)\n",
      "memory usage: 440.9 KB\n"
     ]
    }
   ],
   "source": [
    "# Ver información de los datos \n",
    "\n",
    "df_y.info()"
   ]
  },
  {
   "cell_type": "code",
   "execution_count": 57,
   "metadata": {},
   "outputs": [
    {
     "data": {
      "text/plain": [
       "0    0\n",
       "1    0\n",
       "2    0\n",
       "3    1\n",
       "4    0\n",
       "Name: LluviaMan, dtype: int64"
      ]
     },
     "execution_count": 57,
     "metadata": {},
     "output_type": "execute_result"
    }
   ],
   "source": [
    "# Verificar datos iniciales \n",
    "df_y.head()"
   ]
  },
  {
   "cell_type": "code",
   "execution_count": 58,
   "metadata": {},
   "outputs": [],
   "source": [
    "# Cambiar df_y a float\n",
    "df_y = df_y.astype(float)"
   ]
  },
  {
   "cell_type": "code",
   "execution_count": 59,
   "metadata": {},
   "outputs": [],
   "source": [
    "# Separo en 70% entrenamiento y 30% testeo con una semilla 2023\n",
    "\n",
    "x_train, x_test, y_train, y_test = train_test_split(df_x, df_y, train_size = 0.7, random_state = 2023, stratify = df_y)"
   ]
  },
  {
   "cell_type": "code",
   "execution_count": 60,
   "metadata": {},
   "outputs": [
    {
     "name": "stdout",
     "output_type": "stream",
     "text": [
      "Predictores:\n"
     ]
    },
    {
     "data": {
      "text/html": [
       "<div>\n",
       "<style scoped>\n",
       "    .dataframe tbody tr th:only-of-type {\n",
       "        vertical-align: middle;\n",
       "    }\n",
       "\n",
       "    .dataframe tbody tr th {\n",
       "        vertical-align: top;\n",
       "    }\n",
       "\n",
       "    .dataframe thead th {\n",
       "        text-align: right;\n",
       "    }\n",
       "</style>\n",
       "<table border=\"1\" class=\"dataframe\">\n",
       "  <thead>\n",
       "    <tr style=\"text-align: right;\">\n",
       "      <th></th>\n",
       "      <th>MinTemp</th>\n",
       "      <th>MaxTemp</th>\n",
       "      <th>Lluvia</th>\n",
       "      <th>Evaporacion</th>\n",
       "      <th>Sol</th>\n",
       "      <th>VelRafaga</th>\n",
       "      <th>Vel9am</th>\n",
       "      <th>Vel3pm</th>\n",
       "      <th>Hum9am</th>\n",
       "      <th>Hum3pm</th>\n",
       "      <th>...</th>\n",
       "      <th>LluviaHoy_No</th>\n",
       "      <th>LluviaHoy_Yes</th>\n",
       "      <th>Koppen_Desert</th>\n",
       "      <th>Koppen_Grassland</th>\n",
       "      <th>Koppen_Subtropical</th>\n",
       "      <th>Koppen_Temperate</th>\n",
       "      <th>Estacion_Invierno</th>\n",
       "      <th>Estacion_Otoño</th>\n",
       "      <th>Estacion_Primavera</th>\n",
       "      <th>Estacion_Verano</th>\n",
       "    </tr>\n",
       "  </thead>\n",
       "  <tbody>\n",
       "    <tr>\n",
       "      <th>0</th>\n",
       "      <td>7.6</td>\n",
       "      <td>19.3</td>\n",
       "      <td>0.0</td>\n",
       "      <td>3.4</td>\n",
       "      <td>9.4</td>\n",
       "      <td>35.0</td>\n",
       "      <td>13.0</td>\n",
       "      <td>13.0</td>\n",
       "      <td>73.0</td>\n",
       "      <td>32.0</td>\n",
       "      <td>...</td>\n",
       "      <td>1.0</td>\n",
       "      <td>0.0</td>\n",
       "      <td>0.0</td>\n",
       "      <td>0.0</td>\n",
       "      <td>1.0</td>\n",
       "      <td>0.0</td>\n",
       "      <td>1.0</td>\n",
       "      <td>0.0</td>\n",
       "      <td>0.0</td>\n",
       "      <td>0.0</td>\n",
       "    </tr>\n",
       "    <tr>\n",
       "      <th>1</th>\n",
       "      <td>6.8</td>\n",
       "      <td>19.5</td>\n",
       "      <td>0.0</td>\n",
       "      <td>3.4</td>\n",
       "      <td>9.4</td>\n",
       "      <td>46.0</td>\n",
       "      <td>19.0</td>\n",
       "      <td>28.0</td>\n",
       "      <td>67.0</td>\n",
       "      <td>42.0</td>\n",
       "      <td>...</td>\n",
       "      <td>1.0</td>\n",
       "      <td>0.0</td>\n",
       "      <td>0.0</td>\n",
       "      <td>0.0</td>\n",
       "      <td>1.0</td>\n",
       "      <td>0.0</td>\n",
       "      <td>1.0</td>\n",
       "      <td>0.0</td>\n",
       "      <td>0.0</td>\n",
       "      <td>0.0</td>\n",
       "    </tr>\n",
       "    <tr>\n",
       "      <th>2</th>\n",
       "      <td>5.5</td>\n",
       "      <td>13.9</td>\n",
       "      <td>0.0</td>\n",
       "      <td>2.8</td>\n",
       "      <td>3.8</td>\n",
       "      <td>44.0</td>\n",
       "      <td>26.0</td>\n",
       "      <td>13.0</td>\n",
       "      <td>72.0</td>\n",
       "      <td>58.0</td>\n",
       "      <td>...</td>\n",
       "      <td>1.0</td>\n",
       "      <td>0.0</td>\n",
       "      <td>0.0</td>\n",
       "      <td>0.0</td>\n",
       "      <td>0.0</td>\n",
       "      <td>1.0</td>\n",
       "      <td>1.0</td>\n",
       "      <td>0.0</td>\n",
       "      <td>0.0</td>\n",
       "      <td>0.0</td>\n",
       "    </tr>\n",
       "    <tr>\n",
       "      <th>3</th>\n",
       "      <td>8.6</td>\n",
       "      <td>14.3</td>\n",
       "      <td>0.0</td>\n",
       "      <td>2.8</td>\n",
       "      <td>3.8</td>\n",
       "      <td>35.0</td>\n",
       "      <td>13.0</td>\n",
       "      <td>17.0</td>\n",
       "      <td>67.0</td>\n",
       "      <td>56.0</td>\n",
       "      <td>...</td>\n",
       "      <td>1.0</td>\n",
       "      <td>0.0</td>\n",
       "      <td>0.0</td>\n",
       "      <td>0.0</td>\n",
       "      <td>0.0</td>\n",
       "      <td>1.0</td>\n",
       "      <td>1.0</td>\n",
       "      <td>0.0</td>\n",
       "      <td>0.0</td>\n",
       "      <td>0.0</td>\n",
       "    </tr>\n",
       "    <tr>\n",
       "      <th>4</th>\n",
       "      <td>7.9</td>\n",
       "      <td>13.0</td>\n",
       "      <td>0.0</td>\n",
       "      <td>2.8</td>\n",
       "      <td>3.8</td>\n",
       "      <td>39.0</td>\n",
       "      <td>15.0</td>\n",
       "      <td>17.0</td>\n",
       "      <td>68.0</td>\n",
       "      <td>69.0</td>\n",
       "      <td>...</td>\n",
       "      <td>1.0</td>\n",
       "      <td>0.0</td>\n",
       "      <td>0.0</td>\n",
       "      <td>0.0</td>\n",
       "      <td>0.0</td>\n",
       "      <td>1.0</td>\n",
       "      <td>1.0</td>\n",
       "      <td>0.0</td>\n",
       "      <td>0.0</td>\n",
       "      <td>0.0</td>\n",
       "    </tr>\n",
       "    <tr>\n",
       "      <th>...</th>\n",
       "      <td>...</td>\n",
       "      <td>...</td>\n",
       "      <td>...</td>\n",
       "      <td>...</td>\n",
       "      <td>...</td>\n",
       "      <td>...</td>\n",
       "      <td>...</td>\n",
       "      <td>...</td>\n",
       "      <td>...</td>\n",
       "      <td>...</td>\n",
       "      <td>...</td>\n",
       "      <td>...</td>\n",
       "      <td>...</td>\n",
       "      <td>...</td>\n",
       "      <td>...</td>\n",
       "      <td>...</td>\n",
       "      <td>...</td>\n",
       "      <td>...</td>\n",
       "      <td>...</td>\n",
       "      <td>...</td>\n",
       "      <td>...</td>\n",
       "    </tr>\n",
       "    <tr>\n",
       "      <th>56415</th>\n",
       "      <td>7.6</td>\n",
       "      <td>16.1</td>\n",
       "      <td>2.8</td>\n",
       "      <td>5.6</td>\n",
       "      <td>10.6</td>\n",
       "      <td>50.0</td>\n",
       "      <td>20.0</td>\n",
       "      <td>28.0</td>\n",
       "      <td>68.0</td>\n",
       "      <td>49.0</td>\n",
       "      <td>...</td>\n",
       "      <td>0.0</td>\n",
       "      <td>1.0</td>\n",
       "      <td>0.0</td>\n",
       "      <td>0.0</td>\n",
       "      <td>0.0</td>\n",
       "      <td>1.0</td>\n",
       "      <td>0.0</td>\n",
       "      <td>0.0</td>\n",
       "      <td>1.0</td>\n",
       "      <td>0.0</td>\n",
       "    </tr>\n",
       "    <tr>\n",
       "      <th>56416</th>\n",
       "      <td>13.3</td>\n",
       "      <td>15.5</td>\n",
       "      <td>39.8</td>\n",
       "      <td>7.2</td>\n",
       "      <td>9.1</td>\n",
       "      <td>54.0</td>\n",
       "      <td>30.0</td>\n",
       "      <td>24.0</td>\n",
       "      <td>62.0</td>\n",
       "      <td>56.0</td>\n",
       "      <td>...</td>\n",
       "      <td>0.0</td>\n",
       "      <td>1.0</td>\n",
       "      <td>0.0</td>\n",
       "      <td>0.0</td>\n",
       "      <td>0.0</td>\n",
       "      <td>1.0</td>\n",
       "      <td>0.0</td>\n",
       "      <td>0.0</td>\n",
       "      <td>1.0</td>\n",
       "      <td>0.0</td>\n",
       "    </tr>\n",
       "    <tr>\n",
       "      <th>56417</th>\n",
       "      <td>13.7</td>\n",
       "      <td>23.4</td>\n",
       "      <td>3.6</td>\n",
       "      <td>5.8</td>\n",
       "      <td>3.3</td>\n",
       "      <td>85.0</td>\n",
       "      <td>6.0</td>\n",
       "      <td>6.0</td>\n",
       "      <td>82.0</td>\n",
       "      <td>69.0</td>\n",
       "      <td>...</td>\n",
       "      <td>0.0</td>\n",
       "      <td>1.0</td>\n",
       "      <td>0.0</td>\n",
       "      <td>0.0</td>\n",
       "      <td>0.0</td>\n",
       "      <td>1.0</td>\n",
       "      <td>0.0</td>\n",
       "      <td>0.0</td>\n",
       "      <td>1.0</td>\n",
       "      <td>0.0</td>\n",
       "    </tr>\n",
       "    <tr>\n",
       "      <th>56418</th>\n",
       "      <td>14.0</td>\n",
       "      <td>26.9</td>\n",
       "      <td>3.6</td>\n",
       "      <td>4.4</td>\n",
       "      <td>9.7</td>\n",
       "      <td>39.0</td>\n",
       "      <td>4.0</td>\n",
       "      <td>17.0</td>\n",
       "      <td>80.0</td>\n",
       "      <td>36.0</td>\n",
       "      <td>...</td>\n",
       "      <td>0.0</td>\n",
       "      <td>1.0</td>\n",
       "      <td>0.0</td>\n",
       "      <td>0.0</td>\n",
       "      <td>0.0</td>\n",
       "      <td>1.0</td>\n",
       "      <td>0.0</td>\n",
       "      <td>0.0</td>\n",
       "      <td>1.0</td>\n",
       "      <td>0.0</td>\n",
       "    </tr>\n",
       "    <tr>\n",
       "      <th>56419</th>\n",
       "      <td>8.0</td>\n",
       "      <td>24.3</td>\n",
       "      <td>0.0</td>\n",
       "      <td>3.4</td>\n",
       "      <td>6.3</td>\n",
       "      <td>30.0</td>\n",
       "      <td>6.0</td>\n",
       "      <td>20.0</td>\n",
       "      <td>68.0</td>\n",
       "      <td>29.0</td>\n",
       "      <td>...</td>\n",
       "      <td>1.0</td>\n",
       "      <td>0.0</td>\n",
       "      <td>0.0</td>\n",
       "      <td>0.0</td>\n",
       "      <td>0.0</td>\n",
       "      <td>1.0</td>\n",
       "      <td>0.0</td>\n",
       "      <td>0.0</td>\n",
       "      <td>1.0</td>\n",
       "      <td>0.0</td>\n",
       "    </tr>\n",
       "  </tbody>\n",
       "</table>\n",
       "<p>56420 rows × 26 columns</p>\n",
       "</div>"
      ],
      "text/plain": [
       "       MinTemp  MaxTemp  Lluvia  Evaporacion   Sol  VelRafaga  Vel9am  Vel3pm  \\\n",
       "0          7.6     19.3     0.0          3.4   9.4       35.0    13.0    13.0   \n",
       "1          6.8     19.5     0.0          3.4   9.4       46.0    19.0    28.0   \n",
       "2          5.5     13.9     0.0          2.8   3.8       44.0    26.0    13.0   \n",
       "3          8.6     14.3     0.0          2.8   3.8       35.0    13.0    17.0   \n",
       "4          7.9     13.0     0.0          2.8   3.8       39.0    15.0    17.0   \n",
       "...        ...      ...     ...          ...   ...        ...     ...     ...   \n",
       "56415      7.6     16.1     2.8          5.6  10.6       50.0    20.0    28.0   \n",
       "56416     13.3     15.5    39.8          7.2   9.1       54.0    30.0    24.0   \n",
       "56417     13.7     23.4     3.6          5.8   3.3       85.0     6.0     6.0   \n",
       "56418     14.0     26.9     3.6          4.4   9.7       39.0     4.0    17.0   \n",
       "56419      8.0     24.3     0.0          3.4   6.3       30.0     6.0    20.0   \n",
       "\n",
       "       Hum9am  Hum3pm  ...  LluviaHoy_No  LluviaHoy_Yes  Koppen_Desert  \\\n",
       "0        73.0    32.0  ...           1.0            0.0            0.0   \n",
       "1        67.0    42.0  ...           1.0            0.0            0.0   \n",
       "2        72.0    58.0  ...           1.0            0.0            0.0   \n",
       "3        67.0    56.0  ...           1.0            0.0            0.0   \n",
       "4        68.0    69.0  ...           1.0            0.0            0.0   \n",
       "...       ...     ...  ...           ...            ...            ...   \n",
       "56415    68.0    49.0  ...           0.0            1.0            0.0   \n",
       "56416    62.0    56.0  ...           0.0            1.0            0.0   \n",
       "56417    82.0    69.0  ...           0.0            1.0            0.0   \n",
       "56418    80.0    36.0  ...           0.0            1.0            0.0   \n",
       "56419    68.0    29.0  ...           1.0            0.0            0.0   \n",
       "\n",
       "       Koppen_Grassland  Koppen_Subtropical  Koppen_Temperate  \\\n",
       "0                   0.0                 1.0               0.0   \n",
       "1                   0.0                 1.0               0.0   \n",
       "2                   0.0                 0.0               1.0   \n",
       "3                   0.0                 0.0               1.0   \n",
       "4                   0.0                 0.0               1.0   \n",
       "...                 ...                 ...               ...   \n",
       "56415               0.0                 0.0               1.0   \n",
       "56416               0.0                 0.0               1.0   \n",
       "56417               0.0                 0.0               1.0   \n",
       "56418               0.0                 0.0               1.0   \n",
       "56419               0.0                 0.0               1.0   \n",
       "\n",
       "       Estacion_Invierno  Estacion_Otoño  Estacion_Primavera  Estacion_Verano  \n",
       "0                    1.0             0.0                 0.0              0.0  \n",
       "1                    1.0             0.0                 0.0              0.0  \n",
       "2                    1.0             0.0                 0.0              0.0  \n",
       "3                    1.0             0.0                 0.0              0.0  \n",
       "4                    1.0             0.0                 0.0              0.0  \n",
       "...                  ...             ...                 ...              ...  \n",
       "56415                0.0             0.0                 1.0              0.0  \n",
       "56416                0.0             0.0                 1.0              0.0  \n",
       "56417                0.0             0.0                 1.0              0.0  \n",
       "56418                0.0             0.0                 1.0              0.0  \n",
       "56419                0.0             0.0                 1.0              0.0  \n",
       "\n",
       "[56420 rows x 26 columns]"
      ]
     },
     "metadata": {},
     "output_type": "display_data"
    },
    {
     "name": "stdout",
     "output_type": "stream",
     "text": [
      "Variable respuesta:\n"
     ]
    },
    {
     "data": {
      "text/plain": [
       "0        0.0\n",
       "1        0.0\n",
       "2        0.0\n",
       "3        1.0\n",
       "4        0.0\n",
       "        ... \n",
       "56415    0.0\n",
       "56416    1.0\n",
       "56417    1.0\n",
       "56418    1.0\n",
       "56419    1.0\n",
       "Name: LluviaMan, Length: 56420, dtype: float64"
      ]
     },
     "metadata": {},
     "output_type": "display_data"
    },
    {
     "name": "stdout",
     "output_type": "stream",
     "text": [
      "Predictores de entrenamiento:\n",
      "Dimensiones X_train: (39494, 26)\n",
      "Dimensiones X_test : (16926, 26)\n",
      "Dimensiones y_train: (39494,)\n",
      "Dimensiones y_test : (16926,)\n"
     ]
    }
   ],
   "source": [
    "# Ver resultados de la separación\n",
    "\n",
    "print(\"Predictores:\")\n",
    "display(df_x)\n",
    "print(\"Variable respuesta:\")\n",
    "display(df_y)\n",
    "\n",
    "print(\"Predictores de entrenamiento:\")\n",
    "print(\"Dimensiones X_train:\", x_train.shape)\n",
    "print(\"Dimensiones X_test :\", x_test.shape)\n",
    "print(\"Dimensiones y_train:\", y_train.shape)\n",
    "print(\"Dimensiones y_test :\", y_test.shape)"
   ]
  },
  {
   "cell_type": "markdown",
   "metadata": {},
   "source": [
    "# Parte 2\n",
    "Utilizando el set de entrenamiento, ajuste un modelo de regresión logística, SVM, árbol de clasificación y Random Forest. Para ello debe:\n",
    "\n",
    "Limpiar los datos - Escalar los datos numéricos. - Transformar a dummys las variables categóricas.\n",
    "\n",
    "Definir la grilla de hiperparámetros a optimizar, en este caso:\n",
    "\n",
    "SVM\n",
    "Costo\n",
    "Árbol de clasificación:\n",
    "Observaciones mínimas para división.\n",
    "Costo de complejidad.\n",
    "Profundidad máxima del árbol.\n",
    "Random Forest\n",
    "Número de árboles.\n",
    "Número de predictores muestreados para cada árbol.\n",
    "Observaciones mínimas para división.\n",
    "Buscar los hiperparámetros óptimos utilizando validación cruzada optimizando la métrica de roc_auc"
   ]
  },
  {
   "cell_type": "code",
   "execution_count": 61,
   "metadata": {},
   "outputs": [
    {
     "name": "stdout",
     "output_type": "stream",
     "text": [
      "<class 'pandas.core.frame.DataFrame'>\n",
      "Index: 39494 entries, 26215 to 36224\n",
      "Data columns (total 26 columns):\n",
      " #   Column              Non-Null Count  Dtype  \n",
      "---  ------              --------------  -----  \n",
      " 0   MinTemp             39494 non-null  float64\n",
      " 1   MaxTemp             39494 non-null  float64\n",
      " 2   Lluvia              39494 non-null  float64\n",
      " 3   Evaporacion         39494 non-null  float64\n",
      " 4   Sol                 39494 non-null  float64\n",
      " 5   VelRafaga           39494 non-null  float64\n",
      " 6   Vel9am              39494 non-null  float64\n",
      " 7   Vel3pm              39494 non-null  float64\n",
      " 8   Hum9am              39494 non-null  float64\n",
      " 9   Hum3pm              39494 non-null  float64\n",
      " 10  Pres9am             39494 non-null  float64\n",
      " 11  Pre3pm              39494 non-null  float64\n",
      " 12  Nub9am              39494 non-null  float64\n",
      " 13  Nub3pm              39494 non-null  float64\n",
      " 14  Temp9am             39494 non-null  float64\n",
      " 15  Temp3pm             39494 non-null  float64\n",
      " 16  LluviaHoy_No        39494 non-null  float64\n",
      " 17  LluviaHoy_Yes       39494 non-null  float64\n",
      " 18  Koppen_Desert       39494 non-null  float64\n",
      " 19  Koppen_Grassland    39494 non-null  float64\n",
      " 20  Koppen_Subtropical  39494 non-null  float64\n",
      " 21  Koppen_Temperate    39494 non-null  float64\n",
      " 22  Estacion_Invierno   39494 non-null  float64\n",
      " 23  Estacion_Otoño      39494 non-null  float64\n",
      " 24  Estacion_Primavera  39494 non-null  float64\n",
      " 25  Estacion_Verano     39494 non-null  float64\n",
      "dtypes: float64(26)\n",
      "memory usage: 8.1 MB\n"
     ]
    }
   ],
   "source": [
    "# Información de x_train\n",
    "x_train.info()"
   ]
  },
  {
   "cell_type": "code",
   "execution_count": 62,
   "metadata": {},
   "outputs": [
    {
     "data": {
      "text/plain": [
       "26215    0.0\n",
       "27325    1.0\n",
       "20588    1.0\n",
       "8470     0.0\n",
       "56237    0.0\n",
       "Name: LluviaMan, dtype: float64"
      ]
     },
     "execution_count": 62,
     "metadata": {},
     "output_type": "execute_result"
    }
   ],
   "source": [
    "y_train.head()"
   ]
  },
  {
   "cell_type": "code",
   "execution_count": 63,
   "metadata": {},
   "outputs": [
    {
     "name": "stdout",
     "output_type": "stream",
     "text": [
      "<class 'pandas.core.series.Series'>\n",
      "Index: 39494 entries, 26215 to 36224\n",
      "Series name: LluviaMan\n",
      "Non-Null Count  Dtype  \n",
      "--------------  -----  \n",
      "39494 non-null  float64\n",
      "dtypes: float64(1)\n",
      "memory usage: 617.1 KB\n"
     ]
    }
   ],
   "source": [
    "y_train.info()"
   ]
  },
  {
   "cell_type": "code",
   "execution_count": 64,
   "metadata": {},
   "outputs": [
    {
     "data": {
      "text/plain": [
       "(39494,)"
      ]
     },
     "execution_count": 64,
     "metadata": {},
     "output_type": "execute_result"
    }
   ],
   "source": [
    "y_train.shape"
   ]
  },
  {
   "cell_type": "code",
   "execution_count": 65,
   "metadata": {},
   "outputs": [
    {
     "name": "stderr",
     "output_type": "stream",
     "text": [
      "/Library/Frameworks/Python.framework/Versions/3.11/lib/python3.11/site-packages/sklearn/linear_model/_logistic.py:460: ConvergenceWarning: lbfgs failed to converge (status=1):\n",
      "STOP: TOTAL NO. of ITERATIONS REACHED LIMIT.\n",
      "\n",
      "Increase the number of iterations (max_iter) or scale the data as shown in:\n",
      "    https://scikit-learn.org/stable/modules/preprocessing.html\n",
      "Please also refer to the documentation for alternative solver options:\n",
      "    https://scikit-learn.org/stable/modules/linear_model.html#logistic-regression\n",
      "  n_iter_i = _check_optimize_result(\n"
     ]
    }
   ],
   "source": [
    "# Regresión logística\n",
    "from sklearn.linear_model import LogisticRegression\n",
    "\n",
    "regresion_logistica = LogisticRegression(class_weight = \"balanced\").fit(X = x_train, y = y_train)\n"
   ]
  },
  {
   "cell_type": "code",
   "execution_count": 66,
   "metadata": {},
   "outputs": [],
   "source": [
    "regresion_logistica_prob = regresion_logistica.predict_proba(x_train)\n",
    "regresion_logistica_pred = regresion_logistica.predict(x_train)"
   ]
  },
  {
   "cell_type": "code",
   "execution_count": 67,
   "metadata": {},
   "outputs": [
    {
     "data": {
      "text/plain": [
       "(39494, 26)"
      ]
     },
     "execution_count": 67,
     "metadata": {},
     "output_type": "execute_result"
    }
   ],
   "source": [
    "x_train.shape"
   ]
  },
  {
   "cell_type": "code",
   "execution_count": 68,
   "metadata": {},
   "outputs": [
    {
     "data": {
      "text/plain": [
       "(39494,)"
      ]
     },
     "execution_count": 68,
     "metadata": {},
     "output_type": "execute_result"
    }
   ],
   "source": [
    "y_train.shape"
   ]
  },
  {
   "cell_type": "code",
   "execution_count": 69,
   "metadata": {},
   "outputs": [
    {
     "ename": "ValueError",
     "evalue": "y should be a 1d array, got an array of shape (39494, 2) instead.",
     "output_type": "error",
     "traceback": [
      "\u001b[0;31m---------------------------------------------------------------------------\u001b[0m",
      "\u001b[0;31mValueError\u001b[0m                                Traceback (most recent call last)",
      "\u001b[1;32m/Users/davidlealolivares/Library/Mobile Documents/com~apple~CloudDocs/diplomadodatascienceuc2023/segundo_taller/segundo_taller_v2.ipynb Cell 24\u001b[0m line \u001b[0;36m3\n\u001b[1;32m      <a href='vscode-notebook-cell:/Users/davidlealolivares/Library/Mobile%20Documents/com~apple~CloudDocs/diplomadodatascienceuc2023/segundo_taller/segundo_taller_v2.ipynb#X24sZmlsZQ%3D%3D?line=0'>1</a>\u001b[0m \u001b[39mfrom\u001b[39;00m \u001b[39msklearn\u001b[39;00m \u001b[39mimport\u001b[39;00m metrics\n\u001b[0;32m----> <a href='vscode-notebook-cell:/Users/davidlealolivares/Library/Mobile%20Documents/com~apple~CloudDocs/diplomadodatascienceuc2023/segundo_taller/segundo_taller_v2.ipynb#X24sZmlsZQ%3D%3D?line=2'>3</a>\u001b[0m fpr, tpr, _ \u001b[39m=\u001b[39m metrics\u001b[39m.\u001b[39;49mroc_curve(y_train, regresion_logistica_prob)\n\u001b[1;32m      <a href='vscode-notebook-cell:/Users/davidlealolivares/Library/Mobile%20Documents/com~apple~CloudDocs/diplomadodatascienceuc2023/segundo_taller/segundo_taller_v2.ipynb#X24sZmlsZQ%3D%3D?line=3'>4</a>\u001b[0m auc \u001b[39m=\u001b[39m metrics\u001b[39m.\u001b[39mroc_auc_score(y_train, regresion_logistica_prob)\n\u001b[1;32m      <a href='vscode-notebook-cell:/Users/davidlealolivares/Library/Mobile%20Documents/com~apple~CloudDocs/diplomadodatascienceuc2023/segundo_taller/segundo_taller_v2.ipynb#X24sZmlsZQ%3D%3D?line=5'>6</a>\u001b[0m \u001b[39m# Creamos la curva ROC\u001b[39;00m\n",
      "File \u001b[0;32m/Library/Frameworks/Python.framework/Versions/3.11/lib/python3.11/site-packages/sklearn/utils/_param_validation.py:211\u001b[0m, in \u001b[0;36mvalidate_params.<locals>.decorator.<locals>.wrapper\u001b[0;34m(*args, **kwargs)\u001b[0m\n\u001b[1;32m    205\u001b[0m \u001b[39mtry\u001b[39;00m:\n\u001b[1;32m    206\u001b[0m     \u001b[39mwith\u001b[39;00m config_context(\n\u001b[1;32m    207\u001b[0m         skip_parameter_validation\u001b[39m=\u001b[39m(\n\u001b[1;32m    208\u001b[0m             prefer_skip_nested_validation \u001b[39mor\u001b[39;00m global_skip_validation\n\u001b[1;32m    209\u001b[0m         )\n\u001b[1;32m    210\u001b[0m     ):\n\u001b[0;32m--> 211\u001b[0m         \u001b[39mreturn\u001b[39;00m func(\u001b[39m*\u001b[39;49margs, \u001b[39m*\u001b[39;49m\u001b[39m*\u001b[39;49mkwargs)\n\u001b[1;32m    212\u001b[0m \u001b[39mexcept\u001b[39;00m InvalidParameterError \u001b[39mas\u001b[39;00m e:\n\u001b[1;32m    213\u001b[0m     \u001b[39m# When the function is just a wrapper around an estimator, we allow\u001b[39;00m\n\u001b[1;32m    214\u001b[0m     \u001b[39m# the function to delegate validation to the estimator, but we replace\u001b[39;00m\n\u001b[1;32m    215\u001b[0m     \u001b[39m# the name of the estimator by the name of the function in the error\u001b[39;00m\n\u001b[1;32m    216\u001b[0m     \u001b[39m# message to avoid confusion.\u001b[39;00m\n\u001b[1;32m    217\u001b[0m     msg \u001b[39m=\u001b[39m re\u001b[39m.\u001b[39msub(\n\u001b[1;32m    218\u001b[0m         \u001b[39mr\u001b[39m\u001b[39m\"\u001b[39m\u001b[39mparameter of \u001b[39m\u001b[39m\\\u001b[39m\u001b[39mw+ must be\u001b[39m\u001b[39m\"\u001b[39m,\n\u001b[1;32m    219\u001b[0m         \u001b[39mf\u001b[39m\u001b[39m\"\u001b[39m\u001b[39mparameter of \u001b[39m\u001b[39m{\u001b[39;00mfunc\u001b[39m.\u001b[39m\u001b[39m__qualname__\u001b[39m\u001b[39m}\u001b[39;00m\u001b[39m must be\u001b[39m\u001b[39m\"\u001b[39m,\n\u001b[1;32m    220\u001b[0m         \u001b[39mstr\u001b[39m(e),\n\u001b[1;32m    221\u001b[0m     )\n",
      "File \u001b[0;32m/Library/Frameworks/Python.framework/Versions/3.11/lib/python3.11/site-packages/sklearn/metrics/_ranking.py:1094\u001b[0m, in \u001b[0;36mroc_curve\u001b[0;34m(y_true, y_score, pos_label, sample_weight, drop_intermediate)\u001b[0m\n\u001b[1;32m    992\u001b[0m \u001b[39m@validate_params\u001b[39m(\n\u001b[1;32m    993\u001b[0m     {\n\u001b[1;32m    994\u001b[0m         \u001b[39m\"\u001b[39m\u001b[39my_true\u001b[39m\u001b[39m\"\u001b[39m: [\u001b[39m\"\u001b[39m\u001b[39marray-like\u001b[39m\u001b[39m\"\u001b[39m],\n\u001b[0;32m   (...)\u001b[0m\n\u001b[1;32m   1003\u001b[0m     y_true, y_score, \u001b[39m*\u001b[39m, pos_label\u001b[39m=\u001b[39m\u001b[39mNone\u001b[39;00m, sample_weight\u001b[39m=\u001b[39m\u001b[39mNone\u001b[39;00m, drop_intermediate\u001b[39m=\u001b[39m\u001b[39mTrue\u001b[39;00m\n\u001b[1;32m   1004\u001b[0m ):\n\u001b[1;32m   1005\u001b[0m \u001b[39m    \u001b[39m\u001b[39m\"\"\"Compute Receiver operating characteristic (ROC).\u001b[39;00m\n\u001b[1;32m   1006\u001b[0m \n\u001b[1;32m   1007\u001b[0m \u001b[39m    Note: this implementation is restricted to the binary classification task.\u001b[39;00m\n\u001b[0;32m   (...)\u001b[0m\n\u001b[1;32m   1092\u001b[0m \u001b[39m    array([ inf, 0.8 , 0.4 , 0.35, 0.1 ])\u001b[39;00m\n\u001b[1;32m   1093\u001b[0m \u001b[39m    \"\"\"\u001b[39;00m\n\u001b[0;32m-> 1094\u001b[0m     fps, tps, thresholds \u001b[39m=\u001b[39m _binary_clf_curve(\n\u001b[1;32m   1095\u001b[0m         y_true, y_score, pos_label\u001b[39m=\u001b[39;49mpos_label, sample_weight\u001b[39m=\u001b[39;49msample_weight\n\u001b[1;32m   1096\u001b[0m     )\n\u001b[1;32m   1098\u001b[0m     \u001b[39m# Attempt to drop thresholds corresponding to points in between and\u001b[39;00m\n\u001b[1;32m   1099\u001b[0m     \u001b[39m# collinear with other points. These are always suboptimal and do not\u001b[39;00m\n\u001b[1;32m   1100\u001b[0m     \u001b[39m# appear on a plotted ROC curve (and thus do not affect the AUC).\u001b[39;00m\n\u001b[0;32m   (...)\u001b[0m\n\u001b[1;32m   1105\u001b[0m     \u001b[39m# but does not drop more complicated cases like fps = [1, 3, 7],\u001b[39;00m\n\u001b[1;32m   1106\u001b[0m     \u001b[39m# tps = [1, 2, 4]; there is no harm in keeping too many thresholds.\u001b[39;00m\n\u001b[1;32m   1107\u001b[0m     \u001b[39mif\u001b[39;00m drop_intermediate \u001b[39mand\u001b[39;00m \u001b[39mlen\u001b[39m(fps) \u001b[39m>\u001b[39m \u001b[39m2\u001b[39m:\n",
      "File \u001b[0;32m/Library/Frameworks/Python.framework/Versions/3.11/lib/python3.11/site-packages/sklearn/metrics/_ranking.py:807\u001b[0m, in \u001b[0;36m_binary_clf_curve\u001b[0;34m(y_true, y_score, pos_label, sample_weight)\u001b[0m\n\u001b[1;32m    805\u001b[0m check_consistent_length(y_true, y_score, sample_weight)\n\u001b[1;32m    806\u001b[0m y_true \u001b[39m=\u001b[39m column_or_1d(y_true)\n\u001b[0;32m--> 807\u001b[0m y_score \u001b[39m=\u001b[39m column_or_1d(y_score)\n\u001b[1;32m    808\u001b[0m assert_all_finite(y_true)\n\u001b[1;32m    809\u001b[0m assert_all_finite(y_score)\n",
      "File \u001b[0;32m/Library/Frameworks/Python.framework/Versions/3.11/lib/python3.11/site-packages/sklearn/utils/validation.py:1245\u001b[0m, in \u001b[0;36mcolumn_or_1d\u001b[0;34m(y, dtype, warn)\u001b[0m\n\u001b[1;32m   1234\u001b[0m         warnings\u001b[39m.\u001b[39mwarn(\n\u001b[1;32m   1235\u001b[0m             (\n\u001b[1;32m   1236\u001b[0m                 \u001b[39m\"\u001b[39m\u001b[39mA column-vector y was passed when a 1d array was\u001b[39m\u001b[39m\"\u001b[39m\n\u001b[0;32m   (...)\u001b[0m\n\u001b[1;32m   1241\u001b[0m             stacklevel\u001b[39m=\u001b[39m\u001b[39m2\u001b[39m,\n\u001b[1;32m   1242\u001b[0m         )\n\u001b[1;32m   1243\u001b[0m     \u001b[39mreturn\u001b[39;00m _asarray_with_order(xp\u001b[39m.\u001b[39mreshape(y, (\u001b[39m-\u001b[39m\u001b[39m1\u001b[39m,)), order\u001b[39m=\u001b[39m\u001b[39m\"\u001b[39m\u001b[39mC\u001b[39m\u001b[39m\"\u001b[39m, xp\u001b[39m=\u001b[39mxp)\n\u001b[0;32m-> 1245\u001b[0m \u001b[39mraise\u001b[39;00m \u001b[39mValueError\u001b[39;00m(\n\u001b[1;32m   1246\u001b[0m     \u001b[39m\"\u001b[39m\u001b[39my should be a 1d array, got an array of shape \u001b[39m\u001b[39m{}\u001b[39;00m\u001b[39m instead.\u001b[39m\u001b[39m\"\u001b[39m\u001b[39m.\u001b[39mformat(shape)\n\u001b[1;32m   1247\u001b[0m )\n",
      "\u001b[0;31mValueError\u001b[0m: y should be a 1d array, got an array of shape (39494, 2) instead."
     ]
    }
   ],
   "source": [
    "from sklearn import metrics\n",
    "\n",
    "fpr, tpr, _ = metrics.roc_curve(y_train, regresion_logistica_prob)\n",
    "auc = metrics.roc_auc_score(y_train, regresion_logistica_prob)\n",
    "\n",
    "# Creamos la curva ROC\n",
    "plt.plot(fpr, tpr, label=\"AUC = \"+str(auc))\n",
    "plt.ylabel(\"Tasa de Verdaderos Positivos\")\n",
    "plt.xlabel(\"Tasa de Falsos Positivos\")\n",
    "plt.legend(loc=4)\n",
    "plt.show()"
   ]
  },
  {
   "cell_type": "code",
   "execution_count": null,
   "metadata": {},
   "outputs": [],
   "source": [
    "score = regresion_logistica.score(x_test, y_test)\n",
    "cm = metrics.confusion_matrix(y_test, regresion_logistica_pred)\n",
    "\n",
    "#Graficamos la matriz de confusion\n",
    "\n",
    "sns.heatmap(cm, annot = True, fmt = \".3f\", linewidths=.5, square = True, cmap = \"Blues_r\")\n",
    "plt.ylabel(\"Valores Reales\")\n",
    "plt.xlabel(\"Valores Predichos\")\n",
    "accu = \"Accuracy Score: \" + str(score)\n",
    "plt.title(accu, size = 15)\n",
    "plt.show()"
   ]
  },
  {
   "cell_type": "code",
   "execution_count": null,
   "metadata": {},
   "outputs": [],
   "source": [
    "from sklearn.metrics import accuracy_score, precision_score, recall_score, f1_score\n",
    "\n",
    "print(\"Accuracy: \", accuracy_score(y_test, regresion_logistica_pred))\n",
    "print(\"Precision: \", precision_score(y_test, regresion_logistica_pred))\n",
    "print(\"Recall: \", recall_score(y_test, regresion_logistica_pred))\n",
    "print(\"F1: \", f1_score(y_test, regresion_logistica_pred))"
   ]
  },
  {
   "cell_type": "code",
   "execution_count": null,
   "metadata": {},
   "outputs": [],
   "source": [
    "from sklearn.svm import SVC\n",
    "\n",
    "svm = SVC(C = 1, kernel = \"poly\", degree = 3, random_state = 2023, probability = True, class_weight = \"balanced\").fit(x_train, y_train)"
   ]
  },
  {
   "cell_type": "code",
   "execution_count": null,
   "metadata": {},
   "outputs": [],
   "source": [
    "svm_prob = svm.predict_proba(x_test)\n",
    "svm_pred = svm.predict(x_test)"
   ]
  },
  {
   "cell_type": "code",
   "execution_count": null,
   "metadata": {},
   "outputs": [],
   "source": [
    "fpr1, tpr1, _ = metrics.roc_curve(y_test, svm_prob)\n",
    "auc = metrics.roc_auc_score(y_test, svm_prob)\n",
    "\n",
    "# Creamos la curva ROC\n",
    "plt.plot(fpr1, tpr1, label=\"AUC = \"+str(auc))\n",
    "plt.ylabel(\"Tasa de Verdaderos Positivos\")\n",
    "plt.xlabel(\"Tasa de Falsos Positivos\")\n",
    "plt.legend(loc=4)\n",
    "plt.show()"
   ]
  },
  {
   "cell_type": "code",
   "execution_count": null,
   "metadata": {},
   "outputs": [],
   "source": [
    "score = svm.score(x_test, y_test)\n",
    "cm = metrics.confusion_matrix(y_test, svm_pred)\n",
    "\n",
    "#Graficamos la matriz de confusion\n",
    "\n",
    "sns.heatmap(cm, annot = True, fmt = \".3f\", linewidths=.5, square = True, cmap = \"Blues_r\")\n",
    "plt.ylabel(\"Valores Reales\")\n",
    "plt.xlabel(\"Valores Predichos\")\n",
    "accu = \"Accuracy Score: \" + str(score)\n",
    "plt.title(accu, size = 15)\n",
    "plt.show()"
   ]
  },
  {
   "cell_type": "code",
   "execution_count": null,
   "metadata": {},
   "outputs": [],
   "source": [
    "print(\"Accuracy: \", accuracy_score(y_test, svm_pred))\n",
    "print(\"Precision: \", precision_score(y_test, svm_pred))\n",
    "print(\"Recall: \", recall_score(y_test, svm_pred))\n",
    "print(\"F1: \", f1_score(y_test, svm_pred))"
   ]
  },
  {
   "cell_type": "code",
   "execution_count": null,
   "metadata": {},
   "outputs": [],
   "source": [
    "# Arbol\n",
    "from sklearn.tree import DecisionTreeClassifier\n",
    "\n",
    "arbol = DecisionTreeClassifier(max_depth = None, random_state=2023, class_weight = \"balanced\").fit(x_train, y_train)"
   ]
  },
  {
   "cell_type": "code",
   "execution_count": null,
   "metadata": {},
   "outputs": [],
   "source": [
    "arbol_prob = arbol.predict_proba(x_test)\n",
    "arbol_pred = arbol.predict(x_test)"
   ]
  },
  {
   "cell_type": "code",
   "execution_count": null,
   "metadata": {},
   "outputs": [],
   "source": [
    "fpr2, tpr2, _ = metrics.roc_curve(y_test, arbol_prob)\n",
    "auc = metrics.roc_auc_score(y_test, arbol_prob)\n",
    "\n",
    "# Creamos la curva ROC\n",
    "plt.plot(fpr2, tpr2, label=\"AUC = \"+str(auc))\n",
    "plt.ylabel(\"Tasa de Verdaderos Positivos\")\n",
    "plt.xlabel(\"Tasa de Falsos Positivos\")\n",
    "plt.legend(loc=4)\n",
    "plt.show()"
   ]
  },
  {
   "cell_type": "code",
   "execution_count": null,
   "metadata": {},
   "outputs": [],
   "source": [
    "score = arbol.score(x_test, y_test)\n",
    "cm = metrics.confusion_matrix(y_test, arbol_pred)\n",
    "\n",
    "#Graficamos la matriz de confusion\n",
    "\n",
    "sns.heatmap(cm, annot = True, fmt = \".3f\", linewidths=.5, square = True, cmap = \"Blues_r\")\n",
    "plt.ylabel(\"Valores Reales\")\n",
    "plt.xlabel(\"Valores Predichos\")\n",
    "accu = \"Accuracy Score: \" + str(score)\n",
    "plt.title(accu, size = 15)\n",
    "plt.show()"
   ]
  },
  {
   "cell_type": "code",
   "execution_count": null,
   "metadata": {},
   "outputs": [],
   "source": [
    "print(\"Accuracy: \", accuracy_score(y_test, arbol_pred))\n",
    "print(\"Precision: \", precision_score(y_test, arbol_pred))\n",
    "print(\"Recall: \", recall_score(y_test, arbol_pred))\n",
    "print(\"F1: \", f1_score(y_test, arbol_pred))"
   ]
  },
  {
   "cell_type": "code",
   "execution_count": null,
   "metadata": {},
   "outputs": [],
   "source": [
    "x_train.head()"
   ]
  },
  {
   "cell_type": "code",
   "execution_count": null,
   "metadata": {},
   "outputs": [],
   "source": [
    "from sklearn.tree import plot_tree\n",
    "\n",
    "plt.figure(figsize=(17,15))\n",
    "plot_tree(arbol)"
   ]
  },
  {
   "cell_type": "code",
   "execution_count": null,
   "metadata": {},
   "outputs": [],
   "source": [
    "from sklearn.metrics import mean_absolute_error\n",
    "\n",
    "train_mae = mean_absolute_error(y_train, arbol.predict(x_train))\n",
    "test_mae = mean_absolute_error(y_test, arbol_pred)\n",
    "\n",
    "print(f\"MAE de Entrenamiento: {train_mae}\\nMAE de Testeo: {test_mae}\")"
   ]
  },
  {
   "cell_type": "code",
   "execution_count": null,
   "metadata": {},
   "outputs": [],
   "source": [
    "train_accu = accuracy_score(y_train, arbol.predict(x_train))\n",
    "test_accu = accuracy_score(y_test, arbol_pred)\n",
    "\n",
    "print(f\"Accuracy de Entrenamiento: {train_accu}\\nAccuracy de Testeo: {test_accu}\")"
   ]
  },
  {
   "cell_type": "code",
   "execution_count": null,
   "metadata": {},
   "outputs": [],
   "source": [
    "# Random Forest\n",
    "from sklearn.ensemble import RandomForestClassifier\n",
    "\n",
    "rf = RandomForestClassifier(n_estimators = 100, class_weight = \"balanced\").fit(x_train, y_train)"
   ]
  },
  {
   "cell_type": "code",
   "execution_count": null,
   "metadata": {},
   "outputs": [],
   "source": [
    "rf_prob = rf.predict_proba(x_test)\n",
    "rf_pred = rf.predict(x_test)"
   ]
  },
  {
   "cell_type": "code",
   "execution_count": null,
   "metadata": {},
   "outputs": [],
   "source": [
    "fpr3, tpr3, _ = metrics.roc_curve(y_test, rf_prob)\n",
    "auc = metrics.roc_auc_score(y_test, rf_prob)\n",
    "\n",
    "# Creamos la curva ROC\n",
    "plt.plot(fpr3, tpr3, label=\"AUC = \"+str(auc))\n",
    "plt.ylabel(\"Tasa de Verdaderos Positivos\")\n",
    "plt.xlabel(\"Tasa de Falsos Positivos\")\n",
    "plt.legend(loc=4)\n",
    "plt.show()"
   ]
  },
  {
   "cell_type": "code",
   "execution_count": null,
   "metadata": {},
   "outputs": [],
   "source": [
    "score = rf.score(x_test, y_test)\n",
    "cm = metrics.confusion_matrix(y_test, rf_pred)\n",
    "\n",
    "#Graficamos la matriz de confusion\n",
    "\n",
    "sns.heatmap(cm, annot = True, fmt = \".3f\", linewidths=.5, square = True, cmap = \"Blues_r\")\n",
    "plt.ylabel(\"Valores Reales\")\n",
    "plt.xlabel(\"Valores Predichos\")\n",
    "accu = \"Accuracy Score: \" + str(score)\n",
    "plt.title(accu, size = 15)\n",
    "plt.show()"
   ]
  },
  {
   "cell_type": "code",
   "execution_count": null,
   "metadata": {},
   "outputs": [],
   "source": [
    "print(\"Accuracy: \", accuracy_score(y_test, rf_pred))\n",
    "print(\"Precision: \", precision_score(y_test, rf_pred))\n",
    "print(\"Recall: \", recall_score(y_test, rf_pred))\n",
    "print(\"F1: \", f1_score(y_test, rf_pred))"
   ]
  },
  {
   "cell_type": "code",
   "execution_count": null,
   "metadata": {},
   "outputs": [],
   "source": [
    "plt.figure(figsize=(1,1))\n",
    "plot_tree(rf.estimators_[23])"
   ]
  },
  {
   "cell_type": "code",
   "execution_count": null,
   "metadata": {},
   "outputs": [],
   "source": [
    "# NB\n",
    "from sklearn.naive_bayes import MultinomialNB\n",
    "\n",
    "NB = MultinomialNB(fit_prior = False).fit(x_train, y_train)"
   ]
  },
  {
   "cell_type": "code",
   "execution_count": null,
   "metadata": {},
   "outputs": [],
   "source": [
    "NB_prob = NB.predict_proba(x_test)\n",
    "NB_pred = NB.predict(x_test)"
   ]
  },
  {
   "cell_type": "code",
   "execution_count": null,
   "metadata": {},
   "outputs": [],
   "source": [
    "fpr4, tpr4, _ = metrics.roc_curve(y_test, NB_prob)\n",
    "auc = metrics.roc_auc_score(y_test, NB_prob)\n",
    "\n",
    "# Creamos la curva ROC\n",
    "plt.plot(fpr4, tpr4, label=\"AUC = \"+str(auc))\n",
    "plt.ylabel(\"Tasa de Verdaderos Positivos\")\n",
    "plt.xlabel(\"Tasa de Falsos Positivos\")\n",
    "plt.legend(loc=4)\n",
    "plt.show()"
   ]
  },
  {
   "cell_type": "code",
   "execution_count": null,
   "metadata": {},
   "outputs": [],
   "source": [
    "score = NB.score(x_test, y_test)\n",
    "cm = metrics.confusion_matrix(y_test, NB_pred)\n",
    "\n",
    "#Graficamos la matriz de confusion\n",
    "\n",
    "sns.heatmap(cm, annot = True, fmt = \".3f\", linewidths=.5, square = True, cmap = \"Blues_r\")\n",
    "plt.ylabel(\"Valores Reales\")\n",
    "plt.xlabel(\"Valores Predichos\")\n",
    "accu = \"Accuracy Score: \" + str(score)\n",
    "plt.title(accu, size = 15)\n",
    "plt.show()"
   ]
  },
  {
   "cell_type": "code",
   "execution_count": null,
   "metadata": {},
   "outputs": [],
   "source": [
    "print(\"Accuracy: \", accuracy_score(y_test, NB_pred))\n",
    "print(\"Precision: \", precision_score(y_test, NB_pred))\n",
    "print(\"Recall: \", recall_score(y_test, NB_pred))\n",
    "print(\"F1: \", f1_score(y_test, NB_pred))"
   ]
  },
  {
   "cell_type": "code",
   "execution_count": null,
   "metadata": {},
   "outputs": [],
   "source": [
    "#creamos la curva roc\n",
    "plt.plot(fpr, tpr, label='LogisticRegression = {:.2f}'.format(auc))  # Include AUC value in the label\n",
    "plt.plot(fpr1, tpr1, label='SVM = {:.2f}'.format(auc))  # Include AUC value in the label\n",
    "plt.plot(fpr2, tpr2, label='Tree = {:.2f}'.format(auc))  # Include AUC value in the label\n",
    "plt.plot(fpr3, tpr3, label='Random Forest = {:.2f}'.format(auc))  # Include AUC value in the label\n",
    "plt.plot(fpr4, tpr4, label='Naive Bayes = {:.2f}'.format(auc))  # Include AUC value in the label\n",
    "plt.ylabel('tasa de verdaderos positivos')\n",
    "plt.xlabel('tasa de falsos positivos')\n",
    "plt.legend(loc=5)\n",
    "plt.show()"
   ]
  },
  {
   "cell_type": "code",
   "execution_count": null,
   "metadata": {},
   "outputs": [],
   "source": [
    "# KS TEST\n",
    "import scikitplot.metrics as skplt"
   ]
  },
  {
   "cell_type": "code",
   "execution_count": null,
   "metadata": {},
   "outputs": [],
   "source": [
    "skplt.plot_ks_statistic(y_test, rf.predict_proba(x_test))"
   ]
  },
  {
   "cell_type": "code",
   "execution_count": null,
   "metadata": {},
   "outputs": [],
   "source": [
    "stats.ks_2samp(rf_prob, svm_prob, alternative='two-sided', method='auto')\n",
    "stats.ks_2samp(rf_prob, NB_prob, alternative='two-sided', method='auto')\n",
    "stats.ks_2samp(rf_prob, arbol_prob, alternative='two-sided', method='auto')"
   ]
  }
 ],
 "metadata": {
  "kernelspec": {
   "display_name": "Python 3",
   "language": "python",
   "name": "python3"
  },
  "language_info": {
   "codemirror_mode": {
    "name": "ipython",
    "version": 3
   },
   "file_extension": ".py",
   "mimetype": "text/x-python",
   "name": "python",
   "nbconvert_exporter": "python",
   "pygments_lexer": "ipython3",
   "version": "3.11.4"
  },
  "orig_nbformat": 4
 },
 "nbformat": 4,
 "nbformat_minor": 2
}
